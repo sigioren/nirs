{
 "cells": [
  {
   "cell_type": "code",
   "execution_count": 11,
   "id": "cdabdd48",
   "metadata": {},
   "outputs": [],
   "source": [
    "import pickle\n",
    "import pandas as pd\n",
    "import numpy as np\n",
    "import matplotlib.pyplot as plt\n",
    "import seaborn as sb\n",
    "from scipy import interpolate\n",
    "\n",
    "def integral(Y1,Y2,E1,E2):\n",
    "    INT=(Y2*E2-Y1*E1)/((np.log(Y2/Y1)/np.log(E2/E1)+1))\n",
    "    #print(E1,E2,INT)\n",
    "    return INT\n",
    "\n",
    "def load_obj(name):\n",
    "    with open('C:\\\\Users\\\\ginti\\\\Desktop\\\\nirs\\\\' + name + '.pkl', 'rb') as f:\n",
    "        return pickle.load(f)\n",
    "    \n",
    "def Y_NM_Mi20_a(energy,h):\n",
    "    P=np.sqrt(energy*energy+2*0.938*energy)\n",
    "    X=np.log(P)\n",
    "    if energy<1.7:\n",
    "        a,b,c,d=0.5082, -3.0659, 7.2827, -9.5396\n",
    "    #if energy<1.6:\n",
    "    #    a,b,c,d=2.0404,\t-8.1776,\t12.354,\t-11.1\n",
    "    elif (energy>=1.7 and energy<15):\n",
    "        a,b,c,d=0.1179,\t-1.2022,\t4.9329,\t-8.65\n",
    "    else:\n",
    "        a,b,c,d=0,\t-0.0365,\t1.206,\t-4.763\n",
    "    LnY1000=a*X*X*X+b*X*X+c*X+d\n",
    "    Y1000=np.exp(LnY1000)\n",
    "    A = 9.422E-09*np.power(X,5) - 2.284E-07*np.power(X,4) + 2.037E-06*np.power(X,3) - 7.828E-06*np.power(X,2) + 1.203E-05*np.power(X,1) - 5.545E-06\t\t\t\t\t\n",
    "    B = -5.351E-06*np.power(X,5) + 1.316E-04*np.power(X,4) - 1.226E-03*np.power(X,3) + 5.176E-03*np.power(X,2) - 1.017E-02*np.power(X,1) + 1.458E-02\t\t\t\t\n",
    "    alt_dep=(1000-h)*(1000-h)*A+(1000-h)*B\n",
    "    Y=Y1000*np.exp(alt_dep)\n",
    "    return Y\n",
    "\n",
    "def Y_NM_Mi20_p(energy, h):\n",
    "    P=np.sqrt(energy*energy+2*0.938*energy)\n",
    "    X=np.log(P)\n",
    "    #if energy<1.25:\n",
    "    #    a,b,c,d=6.09,\t-14.06,\t13.98,\t-11.615\n",
    "    if energy<1.28:\n",
    "        a,b,c,d=0,\t-8.6616,\t13.879,\t-12.104\n",
    "    elif energy >=1.28 and energy<10:\n",
    "        a,b,c,d=-0.186,\t0.428,\t2.831,\t-8.76\n",
    "    else:\n",
    "        a,b,c,d=0,\t-0.0365,\t1.206,\t-4.763\n",
    "    LnY1000=a*X*X*X+b*X*X+c*X+d\n",
    "    Y1000=np.exp(LnY1000)\n",
    "    A= 6.945E-09*np.power(X,5) - 1.461E-07*np.power(X,4) + 1.115E-06*np.power(X,3) - 3.402E-06*np.power(X,2) + 3.355E-06*np.power(X,1) - 9.823E-07\n",
    "    B= -3.963E-06*np.power(X,5) + 8.091E-05*np.power(X,4) - 6.394E-04*np.power(X,3) + 2.348E-03*np.power(X,2) - 4.713E-03*np.power(X,1) + 1.186E-02\n",
    "    alt_dep=(1000-h)*(1000-h)*A+(1000-h)*B\n",
    "    Y=Y1000*np.exp(alt_dep)\n",
    "    return Y"
   ]
  },
  {
   "cell_type": "code",
   "execution_count": 12,
   "id": "969528ae",
   "metadata": {},
   "outputs": [
    {
     "name": "stdout",
     "output_type": "stream",
     "text": [
      "[0.1095, 0.14200000000000002, 0.183, 0.235, 0.3005, 0.382, 0.482, 0.6035, 0.7505, 0.9269999999999999, 1.135, 1.385, 1.675, 2.015, 2.41, 2.865, 3.395, 4.01, 4.72, 5.535, 6.475, 7.775, 9.515, 11.605, 14.125, 17.16, 20.810000000000002, 23.939999999999998, 26.335, 28.965, 31.85, 35.01, 38.474999999999994, 42.275, 46.44, 52.29, 60.175, 69.22999999999999, 79.625, 91.56, 105.25999999999999, 120.99000000000001, 139.055, 159.79500000000002, 183.60500000000002, 210.945, 242.34, 292.78499999999997, 378.54499999999996, 512.7249999999999]\n"
     ]
    }
   ],
   "source": [
    "data_he = load_obj('a_PAM_CR')\n",
    "a = data_he[2045][4]\n",
    "a = list(a)\n",
    "print(a)"
   ]
  },
  {
   "cell_type": "code",
   "execution_count": 13,
   "id": "0fcb2af2",
   "metadata": {},
   "outputs": [],
   "source": [
    "def hepams(ener):\n",
    "    \n",
    "    data_protons = load_obj('AMS_spec_p')\n",
    "    data_he = load_obj('AMS_spec_he')\n",
    "\n",
    "    newprot = []\n",
    "\n",
    "    for k in data_protons:\n",
    "        x = np.log10(data_protons[k][4])\n",
    "        y = np.log10(data_protons[k][6])\n",
    "        f = interpolate.interp1d(x, y, fill_value=\"extrapolate\")\n",
    "\n",
    "        xnew = np.log10(data_he[k][4])\n",
    "        ynew=f(xnew)\n",
    "\n",
    "        newprot.append(10**ynew)\n",
    "    \n",
    "    iheavy = open('C:\\\\Users\\\\ginti\\\\Desktop\\\\nirs\\\\heavy.txt','r')\n",
    "    linesiheavy = iheavy.readlines()\n",
    "    heavy = []\n",
    "    for x in linesiheavy:\n",
    "        heavy.append(x.split()[1])\n",
    "    iheavy.close()\n",
    "\n",
    "    l = 0\n",
    "    hep = []\n",
    "    meh = []\n",
    "\n",
    "    for i in data_he:\n",
    "        a = (float(data_he[i].iloc[[ener], [6]].values)*(1 + float(heavy[ener])))/float(newprot[l][ener])\n",
    "        hep.append(a)                \n",
    "        l+=1\n",
    "        \n",
    "    return hep"
   ]
  },
  {
   "cell_type": "code",
   "execution_count": 14,
   "id": "492bbff2",
   "metadata": {},
   "outputs": [],
   "source": [
    "def heppam(ener):\n",
    "    \n",
    "    data_protons = load_obj('p_PAM_CR')\n",
    "    data_he = load_obj('a_PAM_CR')\n",
    "\n",
    "    newprot = []\n",
    "\n",
    "    for k in data_protons:\n",
    "        x = np.log10(data_protons[k][4])\n",
    "        y = np.log10(data_protons[k][6])\n",
    "        f = interpolate.interp1d(x, y, fill_value=\"extrapolate\")\n",
    "\n",
    "        xnew = np.log10(data_he[k][4])\n",
    "        ynew=f(xnew)\n",
    "\n",
    "        newprot.append(10**ynew)\n",
    "        \n",
    "        \n",
    "    iheavy = open('C:\\\\Users\\\\ginti\\\\Desktop\\\\nirs\\\\heavyp.txt','r')\n",
    "    linesiheavy = iheavy.readlines()\n",
    "    heavy = []\n",
    "    for x in linesiheavy:\n",
    "        heavy.append(x.split()[0])\n",
    "    iheavy.close()\n",
    "\n",
    "    l = 0\n",
    "    hep = []\n",
    "    meh = []\n",
    "\n",
    "    for i in data_he:\n",
    "        a = (float(data_he[i].iloc[[ener], [6]].values))*(1 + float(heavy[ener]))/float(newprot[l][ener])\n",
    "        hep.append(a)                \n",
    "        l+=1\n",
    "        \n",
    "    return hep"
   ]
  },
  {
   "cell_type": "code",
   "execution_count": 15,
   "id": "0c08d201",
   "metadata": {},
   "outputs": [],
   "source": [
    "time = load_obj('AMS_time')\n",
    "tams = []\n",
    "for j in range(0,79):\n",
    "    a = float(time.iloc[[j], [2]].values)\n",
    "    tams.append(a)\n",
    "    \n",
    "time = load_obj('time_PAM_CR')\n",
    "tpam = []\n",
    "for j in range(0,51):\n",
    "    a = float(time.iloc[[j], [2]].values)\n",
    "    tpam.append(a)"
   ]
  },
  {
   "cell_type": "code",
   "execution_count": 16,
   "id": "26630c62",
   "metadata": {},
   "outputs": [],
   "source": [
    "hepp = heppam(13)\n",
    "hepa = hepams(10)"
   ]
  },
  {
   "cell_type": "code",
   "execution_count": 17,
   "id": "5a243a06",
   "metadata": {},
   "outputs": [
    {
     "name": "stdout",
     "output_type": "stream",
     "text": [
      "51\n"
     ]
    }
   ],
   "source": [
    "time = load_obj('time_PAM_CR')\n",
    "print(len(hepp))"
   ]
  },
  {
   "cell_type": "code",
   "execution_count": 18,
   "id": "8d07db06",
   "metadata": {},
   "outputs": [
    {
     "data": {
      "text/plain": [
       "Text(0.5, 0, 'time')"
      ]
     },
     "execution_count": 18,
     "metadata": {},
     "output_type": "execute_result"
    },
    {
     "data": {
      "image/png": "[encoded data removed]",
      "text/plain": [
       "<Figure size 432x288 with 1 Axes>"
      ]
     },
     "metadata": {
      "needs_background": "light"
     },
     "output_type": "display_data"
    }
   ],
   "source": [
    "plt.scatter(tpam,hepp)\n",
    "plt.scatter(tams,hepa)\n",
    "plt.legend([\"Pam\", \"AMS\"])\n",
    "plt.ylabel('He/p')\n",
    "plt.xlabel('time')"
   ]
  },
  {
   "cell_type": "code",
   "execution_count": 19,
   "id": "05a27df8",
   "metadata": {},
   "outputs": [],
   "source": [
    "data_protons = load_obj('p_PAM_CR')\n",
    "data_he = load_obj('a_PAM_CR')"
   ]
  },
  {
   "cell_type": "code",
   "execution_count": 20,
   "id": "36af6f94",
   "metadata": {},
   "outputs": [
    {
     "data": {
      "text/plain": [
       "<matplotlib.legend.Legend at 0x1f6985ea550>"
      ]
     },
     "execution_count": 20,
     "metadata": {},
     "output_type": "execute_result"
    },
    {
     "data": {
      "image/png": "[encoded data removed]",
      "text/plain": [
       "<Figure size 432x288 with 1 Axes>"
      ]
     },
     "metadata": {
      "needs_background": "light"
     },
     "output_type": "display_data"
    }
   ],
   "source": [
    "plt.loglog(data_protons[2045][4], data_protons[2045][6], 'ro')\n",
    "plt.loglog(data_he[2045][4], data_he[2045][6], 'bo')\n",
    "plt.grid()\n",
    "plt.legend([\"Протоны\", \"Гелий\"])\n",
    "#plt.xlim(0.9,10)\n",
    "#plt.ylim(1e-1, 2e4)"
   ]
  },
  {
   "cell_type": "code",
   "execution_count": 21,
   "id": "1b54f267",
   "metadata": {},
   "outputs": [],
   "source": [
    "x = np.log10(data_protons[2045][4])\n",
    "y = np.log10(data_protons[2045][6])\n",
    "f = interpolate.interp1d(x, y, fill_value=\"extrapolate\")\n",
    "\n",
    "xnew = np.log10(data_he[2045][4])\n",
    "ynew=f(xnew)"
   ]
  },
  {
   "cell_type": "code",
   "execution_count": 22,
   "id": "7a2a50f9",
   "metadata": {},
   "outputs": [
    {
     "data": {
      "text/plain": [
       "<matplotlib.legend.Legend at 0x1f69888ed90>"
      ]
     },
     "execution_count": 22,
     "metadata": {},
     "output_type": "execute_result"
    },
    {
     "data": {
      "image/png": "[encoded data removed]",
      "text/plain": [
       "<Figure size 432x288 with 1 Axes>"
      ]
     },
     "metadata": {
      "needs_background": "light"
     },
     "output_type": "display_data"
    }
   ],
   "source": [
    "plt.loglog(10**x,10**y, 'ro')\n",
    "plt.loglog(10**xnew,10**ynew, 'go')\n",
    "plt.loglog(data_he[2045][4], data_he[2045][6], 'bo')\n",
    "plt.grid()\n",
    "plt.legend([\"Протоны\", 'Подгон протонов под гелий', \"Гелий\"])\n",
    "#plt.xlim(0.9,10)\n",
    "#plt.ylim(1e-1, 2e4)"
   ]
  },
  {
   "cell_type": "code",
   "execution_count": 23,
   "id": "3bcd23f6",
   "metadata": {},
   "outputs": [
    {
     "data": {
      "text/plain": [
       "<matplotlib.legend.Legend at 0x1f694fae610>"
      ]
     },
     "execution_count": 23,
     "metadata": {},
     "output_type": "execute_result"
    },
    {
     "data": {
      "image/png": "[encoded data removed]",
      "text/plain": [
       "<Figure size 432x288 with 1 Axes>"
      ]
     },
     "metadata": {
      "needs_background": "light"
     },
     "output_type": "display_data"
    }
   ],
   "source": [
    "data_protons = load_obj('AMS_spec_p')\n",
    "data_he = load_obj('AMS_spec_he')\n",
    "\n",
    "plt.loglog(data_protons[2426][4], data_protons[2426][6], 'ro')\n",
    "plt.loglog(data_he[2426][4], data_he[2426][6], 'bo')\n",
    "plt.grid()\n",
    "plt.legend([\"Протоны\", \"Гелий\"])\n",
    "#plt.xlim(0.9,10)\n",
    "#plt.ylim(1e-1, 2e4)"
   ]
  },
  {
   "cell_type": "code",
   "execution_count": 24,
   "id": "4e8e9441",
   "metadata": {},
   "outputs": [
    {
     "data": {
      "text/plain": [
       "<matplotlib.legend.Legend at 0x1f69826d610>"
      ]
     },
     "execution_count": 24,
     "metadata": {},
     "output_type": "execute_result"
    },
    {
     "data": {
      "image/png": "[encoded data removed]",
      "text/plain": [
       "<Figure size 432x288 with 1 Axes>"
      ]
     },
     "metadata": {
      "needs_background": "light"
     },
     "output_type": "display_data"
    }
   ],
   "source": [
    "x = np.log10(data_protons[2426][4])\n",
    "y = np.log10(data_protons[2426][6])\n",
    "f = interpolate.interp1d(x, y, fill_value=\"extrapolate\")\n",
    "\n",
    "xnew = np.log10(data_he[2426][4])\n",
    "ynew=f(xnew)\n",
    "\n",
    "plt.loglog(10**x,10**y, 'ro')\n",
    "plt.loglog(10**xnew,10**ynew, 'go')\n",
    "plt.loglog(data_he[2426][4], data_he[2426][6], 'bo')\n",
    "plt.grid()\n",
    "plt.legend([\"Протоны\", 'Подгон протонов под гелий', \"Гелий\"])\n",
    "#plt.xlim(0.9,10)\n",
    "#plt.ylim(1e-1, 2e4)"
   ]
  },
  {
   "cell_type": "code",
   "execution_count": null,
   "id": "56c9da80",
   "metadata": {},
   "outputs": [],
   "source": []
  }
 ],
 "metadata": {
  "kernelspec": {
   "display_name": "Python 3",
   "language": "python",
   "name": "python3"
  },
  "language_info": {
   "codemirror_mode": {
    "name": "ipython",
    "version": 3
   },
   "file_extension": ".py",
   "mimetype": "text/x-python",
   "name": "python",
   "nbconvert_exporter": "python",
   "pygments_lexer": "ipython3",
   "version": "3.8.8"
  }
 },
 "nbformat": 4,
 "nbformat_minor": 5
}
