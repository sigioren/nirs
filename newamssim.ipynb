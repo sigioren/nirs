{
 "cells": [
  {
   "cell_type": "code",
   "execution_count": 12,
   "id": "d2af88b3",
   "metadata": {},
   "outputs": [],
   "source": [
    "import pickle\n",
    "import pandas as pd\n",
    "import numpy as np\n",
    "import matplotlib.pyplot as plt\n",
    "import seaborn as sb\n",
    "from scipy import interpolate\n",
    "from sklearn.linear_model import LinearRegression\n",
    "from sklearn.metrics import r2_score\n",
    "\n",
    "def integral(Y1,Y2,E1,E2):\n",
    "    INT=(Y2*E2-Y1*E1)/((np.log(Y2/Y1)/np.log(E2/E1)+1))\n",
    "    #print(E1,E2,INT)\n",
    "    return INT\n",
    "\n",
    "def load_obj(name):\n",
    "    with open('C:\\\\Users\\\\ginti\\\\Desktop\\\\nirs\\\\' + name + '.pkl', 'rb') as f:\n",
    "        return pickle.load(f)\n",
    "    \n",
    "def Y_NM_Mi20_a(energy,h):\n",
    "    P=np.sqrt(energy*energy+2*0.938*energy)\n",
    "    X=np.log(P)\n",
    "    if energy<1.7:\n",
    "        a,b,c,d=0.5082, -3.0659, 7.2827, -9.5396\n",
    "    #if energy<1.6:\n",
    "    #    a,b,c,d=2.0404,\t-8.1776,\t12.354,\t-11.1\n",
    "    elif (energy>=1.7 and energy<15):\n",
    "        a,b,c,d=0.1179,\t-1.2022,\t4.9329,\t-8.65\n",
    "    else:\n",
    "        a,b,c,d=0,\t-0.0365,\t1.206,\t-4.763\n",
    "    LnY1000=a*X*X*X+b*X*X+c*X+d\n",
    "    Y1000=np.exp(LnY1000)\n",
    "    A = 9.422E-09*np.power(X,5) - 2.284E-07*np.power(X,4) + 2.037E-06*np.power(X,3) - 7.828E-06*np.power(X,2) + 1.203E-05*np.power(X,1) - 5.545E-06\t\t\t\t\t\n",
    "    B = -5.351E-06*np.power(X,5) + 1.316E-04*np.power(X,4) - 1.226E-03*np.power(X,3) + 5.176E-03*np.power(X,2) - 1.017E-02*np.power(X,1) + 1.458E-02\t\t\t\t\n",
    "    alt_dep=(1000-h)*(1000-h)*A+(1000-h)*B\n",
    "    Y=Y1000*np.exp(alt_dep)\n",
    "    return Y\n",
    "\n",
    "def Y_NM_Mi20_p(energy, h):\n",
    "    P=np.sqrt(energy*energy+2*0.938*energy)\n",
    "    X=np.log(P)\n",
    "    #if energy<1.25:\n",
    "    #    a,b,c,d=6.09,\t-14.06,\t13.98,\t-11.615\n",
    "    if energy<1.28:\n",
    "        a,b,c,d=0,\t-8.6616,\t13.879,\t-12.104\n",
    "    elif energy >=1.28 and energy<10:\n",
    "        a,b,c,d=-0.186,\t0.428,\t2.831,\t-8.76\n",
    "    else:\n",
    "        a,b,c,d=0,\t-0.0365,\t1.206,\t-4.763\n",
    "    LnY1000=a*X*X*X+b*X*X+c*X+d\n",
    "    Y1000=np.exp(LnY1000)\n",
    "    A= 6.945E-09*np.power(X,5) - 1.461E-07*np.power(X,4) + 1.115E-06*np.power(X,3) - 3.402E-06*np.power(X,2) + 3.355E-06*np.power(X,1) - 9.823E-07\n",
    "    B= -3.963E-06*np.power(X,5) + 8.091E-05*np.power(X,4) - 6.394E-04*np.power(X,3) + 2.348E-03*np.power(X,2) - 4.713E-03*np.power(X,1) + 1.186E-02\n",
    "    alt_dep=(1000-h)*(1000-h)*A+(1000-h)*B\n",
    "    Y=Y1000*np.exp(alt_dep)\n",
    "    return Y"
   ]
  },
  {
   "cell_type": "code",
   "execution_count": 13,
   "id": "2194a150",
   "metadata": {},
   "outputs": [],
   "source": [
    "def hepams(ener):\n",
    "    \n",
    "    data_protons = load_obj('AMS_spec_p')\n",
    "    data_he = load_obj('AMS_spec_he')\n",
    "\n",
    "    newprot = []\n",
    "\n",
    "    for k in data_protons:\n",
    "        x = np.log10(data_protons[k][4])\n",
    "        y = np.log10(data_protons[k][6])\n",
    "        f = interpolate.interp1d(x, y, fill_value=\"extrapolate\")\n",
    "\n",
    "        xnew = np.log10(data_he[k][4])\n",
    "        ynew=f(xnew)\n",
    "\n",
    "        newprot.append(10**ynew)\n",
    "    \n",
    "    iheavy = open('C:\\\\Users\\\\ginti\\\\Desktop\\\\nirs\\\\heavy.txt','r')\n", #there is no need for heavies here, we just plotting he/p ratio
    "    linesiheavy = iheavy.readlines()\n",
    "    heavy = []\n",
    "    for x in linesiheavy:\n",
    "        heavy.append(x.split()[1])\n",
    "    iheavy.close()\n",
    "\n",
    "    l = 0\n",
    "    hep = []\n",
    "    meh = []\n",
    "\n",
    "    for i in data_he:\n",
    "        a = (float(data_he[i].iloc[[ener], [6]].values))/float(newprot[l][ener])\n",
    "        hep.append(a)                \n",
    "        l+=1\n",
    "        \n",
    "    return hep"
   ]
  },
  {
   "cell_type": "code",
   "execution_count": 16,
   "id": "b003620e",
   "metadata": {},
   "outputs": [],
   "source": [
    "def summ1(pc,depth):\n",
    "    \n",
    "    tt = depth\n",
    "    \n",
    "    data_protons = load_obj('AMS_spec_p')\n",
    "    data_he = load_obj('AMS_spec_he')\n",
    "    \n",
    "    al = []\n",
    "    s1 = 0\n",
    "    \n",
    "    for j in data_protons:\n",
    "        for k in range(0,71):\n",
    "            if float(data_protons[j].iloc[[k], [0]].values) > pc:            \n",
    "                a = float(data_protons[j].iloc[[k], [4]].values)\n",
    "                b = Y_NM_Mi20_p(a,tt) * float(data_protons[j].iloc[[k], [6]].values)\n",
    "                c = float(data_protons[j].iloc[[k+1], [4]].values)\n",
    "                d = Y_NM_Mi20_p(c,tt) * float(data_protons[j].iloc[[k+1], [6]].values)\n",
    "                s1 += integral(b, d, a, c)\n",
    "        al.append(s1)\n",
    "        s1 = 0\n",
    "        \n",
    "    s2 = 0\n",
    "    an = []\n",
    "    \n",
    "    iheavy = open('C:\\\\Users\\\\ginti\\\\Desktop\\\\nirs\\\\heavy.txt','r')\n",
    "    linesiheavy = iheavy.readlines()\n",
    "    heavy = []\n",
    "    for x in linesiheavy:\n",
    "        heavy.append(x.split()[1])\n",
    "    iheavy.close()\n",
    "    \n",
    "    for j in data_he:\n",
    "        for k in range(0,67):        \n",
    "            if float(data_he[j].iloc[[k], [0]].values) > pc:\n",
    "                a = float(data_he[j].iloc[[k], [4]].values)\n",
    "                b = Y_NM_Mi20_a(a,tt) * float(data_he[j].iloc[[k], [6]].values) * (1 + float(heavy[k]))\n",
    "                c = float(data_he[j].iloc[[k+1], [4]].values)\n",
    "                d = Y_NM_Mi20_a(c,tt) * float(data_he[j].iloc[[k+1], [6]].values)  * (1 + float(heavy[k+1]))\n",
    "                s2 += integral(b, d, a, c)\n",
    "        an.append(4*s2)\n",
    "        s2 = 0\n",
    "    nn = []\n",
    "    \n",
    "    for i in range(len(an)):\n",
    "        phe = al[i] + an[i]\n",
    "        nn.append(phe)\n",
    "        \n",
    "    return nn"
   ]
  },
  {
   "cell_type": "code",
   "execution_count": 17,
   "id": "4df64417",
   "metadata": {},
   "outputs": [],
   "source": [
    "n57 = summ1(6.90668,886.94)\n",
    "nn57 = []\n",
    "for i in n57:\n",
    "    nn57.append(i/(sum(n57)/len(n57)))\n",
    "n010 = summ1(0,1025.07)\n",
    "nn010 = []\n",
    "for i in n010:\n",
    "    nn010.append(i/(sum(n010)/len(n010)))\n",
    "    \n",
    "time = load_obj('AMS_time')\n",
    "t = []\n",
    "for j in range(0, 79):\n",
    "    a = float(time.iloc[[j], [0]].values)\n",
    "    t.append(a)"
   ]
  },
  {
   "cell_type": "code",
   "execution_count": 18,
   "id": "e6a3be1b",
   "metadata": {
    "scrolled": true
   },
   "outputs": [
    {
     "data": {
      "text/plain": [
       "Text(0, 0.5, '$NM_{1}/NM_{2}$')"
      ]
     },
     "execution_count": 18,
     "metadata": {},
     "output_type": "execute_result"
    },
    {
     "data": {
      "image/png": "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\n",
      "text/plain": [
       "<Figure size 432x288 with 1 Axes>"
      ]
     },
     "metadata": {
      "needs_background": "light"
     },
     "output_type": "display_data"
    }
   ],
   "source": [
    "nnn=[]\n",
    "for i in range(len(n57)):\n",
    "    a=nn010[i]/nn57[i]\n",
    "    nnn.append(a)\n",
    "    \n",
    "fig = plt.figure()\n",
    "plt.scatter(t, nnn, c=t, cmap=\"plasma\")\n",
    "plt.xlabel('t')\n",
    "plt.ylabel('$NM_{1}/NM_{2}$')"
   ]
  },
  {
   "cell_type": "code",
   "execution_count": 6,
   "id": "a3d8877b",
   "metadata": {},
   "outputs": [],
   "source": [
    "data_he = load_obj('AMS_spec_he')"
   ]
  },
  {
   "cell_type": "code",
   "execution_count": 7,
   "id": "3b7cb496",
   "metadata": {},
   "outputs": [],
   "source": [
    "hepa = []\n",
    "for k in range(len(data_he[2426])):\n",
    "    he = hepams(k)\n",
    "    hepa.append(he)"
   ]
  },
  {
   "cell_type": "code",
   "execution_count": 8,
   "id": "65752290",
   "metadata": {
    "scrolled": true
   },
   "outputs": [
    {
     "name": "stdout",
     "output_type": "stream",
     "text": [
      "[0.6768864269100521, 0.7085446436720627, 0.7518387913291262, 0.8027745269205518, 0.8197017334440486, 0.8548145565851254, 0.8798657424417325, 0.9023521672916893, 0.9220811885083551, 0.9369083183645341, 0.9484088033244698, 0.954932079501124, 0.966478696286482, 0.9709392920451143, 0.9755994807531823, 0.9784646085415746, 0.9821589453645253, 0.9791572451160455, 0.97660447357252, 0.9621079123113129, 0.9567829350303549, 0.9465977923688597, 0.9168504108402237, 0.9074802694905649, 0.8643100277434572, 0.780737560421736, 0.7639664793360322, 0.6316369876282631, 0.6381292154885404, 0.6107485510173727, 0.3690005326242509, 0.36418212226112756, 0.32497087416967774, 0.15541319790021357, 0.08780247638318006, 0.06331316577325319, 0.09786550850493292, 0.02437106699488545, 0.14982910510209124, 0.009691088796305314, 0.023672244079186333, 0.019643226332787256, 0.024052144407204934, 0.019871054496432006, 0.001154188526339528, 4.553299812071199e-05, 0.003682484779841344, 0.0013046071297685424, 0.0008806594882770913, 0.00056425036253549, -2.220446049250313e-16, 0.0, 0.0, 0.0, 0.0, -2.220446049250313e-16, 0.0, -2.220446049250313e-16, 0.0, -2.220446049250313e-16, 0.0, 0.0, 0.0, -2.220446049250313e-16, 0.0, 0.0, 0.0, 0.0]\n"
     ]
    }
   ],
   "source": [
    "corr = []\n",
    "for k in hepa:\n",
    "    x = np.array(k).reshape((-1, 1))\n",
    "    y = np.array(nnn)\n",
    "    model = LinearRegression().fit(x, y)\n",
    "\n",
    "    x_train = x.reshape(-1, 1)\n",
    "    x_test = x.reshape(-1, 1)\n",
    "    y_pred = model.predict(x_test)\n",
    "    coefficient_of_dermination2 = r2_score(y, y_pred)\n",
    "    corr.append(coefficient_of_dermination2)\n",
    "\n",
    "print(corr)"
   ]
  },
  {
   "cell_type": "code",
   "execution_count": 9,
   "id": "39f88d67",
   "metadata": {},
   "outputs": [
    {
     "data": {
      "text/plain": [
       "[<matplotlib.lines.Line2D at 0x1d88c163b20>]"
      ]
     },
     "execution_count": 9,
     "metadata": {},
     "output_type": "execute_result"
    },
    {
     "data": {
      "image/png": "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\n",
      "text/plain": [
       "<Figure size 432x288 with 1 Axes>"
      ]
     },
     "metadata": {
      "needs_background": "light"
     },
     "output_type": "display_data"
    }
   ],
   "source": [
    "ener = data_he[2426][4]\n",
    "\n",
    "fig, ax = plt.subplots()\n",
    "ax.plot(ener[:40], corr[:40])"
   ]
  },
  {
   "cell_type": "code",
   "execution_count": 11,
   "id": "6bb2e7e1",
   "metadata": {},
   "outputs": [
    {
     "data": {
      "text/plain": [
       "0      0.447911\n",
       "1      0.538646\n",
       "2      0.641372\n",
       "3      0.758297\n",
       "4      0.889618\n",
       "5      1.035409\n",
       "6      1.197894\n",
       "7      1.377106\n",
       "8      1.575323\n",
       "9      1.794890\n",
       "10     2.035819\n",
       "11     2.298066\n",
       "12     2.583966\n",
       "13     2.895888\n",
       "14     3.233794\n",
       "15     3.600069\n",
       "16     3.997120\n",
       "17     4.424908\n",
       "18     4.893253\n",
       "19     5.387321\n",
       "20     5.907021\n",
       "21     6.477073\n",
       "22     7.097495\n",
       "23     7.768288\n",
       "24     8.489438\n",
       "25     9.260927\n",
       "26    10.082731\n",
       "27    10.979748\n",
       "28    11.951986\n",
       "29    12.974500\n",
       "30    14.072209\n",
       "31    15.245106\n",
       "32    16.493179\n",
       "33    17.841387\n",
       "34    19.289728\n",
       "35    20.838199\n",
       "36    22.486793\n",
       "37    24.260487\n",
       "38    26.159278\n",
       "39    28.183163\n",
       "Name: 4, dtype: float64"
      ]
     },
     "execution_count": 11,
     "metadata": {},
     "output_type": "execute_result"
    }
   ],
   "source": [
    "ener[:40]"
   ]
  },
  {
   "cell_type": "code",
   "execution_count": 10,
   "id": "fb143909",
   "metadata": {},
   "outputs": [
    {
     "data": {
      "text/plain": [
       "[0.6768864269100521,\n",
       " 0.7085446436720627,\n",
       " 0.7518387913291262,\n",
       " 0.8027745269205518,\n",
       " 0.8197017334440486,\n",
       " 0.8548145565851254,\n",
       " 0.8798657424417325,\n",
       " 0.9023521672916893,\n",
       " 0.9220811885083551,\n",
       " 0.9369083183645341,\n",
       " 0.9484088033244698,\n",
       " 0.954932079501124,\n",
       " 0.966478696286482,\n",
       " 0.9709392920451143,\n",
       " 0.9755994807531823,\n",
       " 0.9784646085415746,\n",
       " 0.9821589453645253,\n",
       " 0.9791572451160455,\n",
       " 0.97660447357252,\n",
       " 0.9621079123113129,\n",
       " 0.9567829350303549,\n",
       " 0.9465977923688597,\n",
       " 0.9168504108402237,\n",
       " 0.9074802694905649,\n",
       " 0.8643100277434572,\n",
       " 0.780737560421736,\n",
       " 0.7639664793360322,\n",
       " 0.6316369876282631,\n",
       " 0.6381292154885404,\n",
       " 0.6107485510173727,\n",
       " 0.3690005326242509,\n",
       " 0.36418212226112756,\n",
       " 0.32497087416967774,\n",
       " 0.15541319790021357,\n",
       " 0.08780247638318006,\n",
       " 0.06331316577325319,\n",
       " 0.09786550850493292,\n",
       " 0.02437106699488545,\n",
       " 0.14982910510209124,\n",
       " 0.009691088796305314]"
      ]
     },
     "execution_count": 10,
     "metadata": {},
     "output_type": "execute_result"
    }
   ],
   "source": [
    "corr[:40]"
   ]
  }
 ],
 "metadata": {
  "kernelspec": {
   "display_name": "Python 3",
   "language": "python",
   "name": "python3"
  },
  "language_info": {
   "codemirror_mode": {
    "name": "ipython",
    "version": 3
   },
   "file_extension": ".py",
   "mimetype": "text/x-python",
   "name": "python",
   "nbconvert_exporter": "python",
   "pygments_lexer": "ipython3",
   "version": "3.8.8"
  }
 },
 "nbformat": 4,
 "nbformat_minor": 5
}
