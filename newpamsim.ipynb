{
 "cells": [
  {
   "cell_type": "code",
   "execution_count": 42,
   "id": "d2af88b3",
   "metadata": {},
   "outputs": [],
   "source": [
    "import pickle\n",
    "import pandas as pd\n",
    "import numpy as np\n",
    "import matplotlib.pyplot as plt\n",
    "import seaborn as sb\n",
    "from scipy import interpolate\n",
    "from sklearn.linear_model import LinearRegression\n",
    "from sklearn.metrics import r2_score\n",
    "\n",
    "def integral(Y1,Y2,E1,E2):\n",
    "    INT=(Y2*E2-Y1*E1)/((np.log(Y2/Y1)/np.log(E2/E1)+1))\n",
    "    #print(E1,E2,INT)\n",
    "    return INT\n",
    "\n",
    "def load_obj(name):\n",
    "    with open('C:\\\\Users\\\\ginti\\\\Desktop\\\\nirs\\\\' + name + '.pkl', 'rb') as f:\n",
    "        return pickle.load(f)\n",
    "    \n",
    "def Y_NM_Mi20_a(energy,h):\n",
    "    P=np.sqrt(energy*energy+2*0.938*energy)\n",
    "    X=np.log(P)\n",
    "    if energy<1.7:\n",
    "        a,b,c,d=0.5082, -3.0659, 7.2827, -9.5396\n",
    "    #if energy<1.6:\n",
    "    #    a,b,c,d=2.0404,\t-8.1776,\t12.354,\t-11.1\n",
    "    elif (energy>=1.7 and energy<15):\n",
    "        a,b,c,d=0.1179,\t-1.2022,\t4.9329,\t-8.65\n",
    "    else:\n",
    "        a,b,c,d=0,\t-0.0365,\t1.206,\t-4.763\n",
    "    LnY1000=a*X*X*X+b*X*X+c*X+d\n",
    "    Y1000=np.exp(LnY1000)\n",
    "    A = 9.422E-09*np.power(X,5) - 2.284E-07*np.power(X,4) + 2.037E-06*np.power(X,3) - 7.828E-06*np.power(X,2) + 1.203E-05*np.power(X,1) - 5.545E-06\t\t\t\t\t\n",
    "    B = -5.351E-06*np.power(X,5) + 1.316E-04*np.power(X,4) - 1.226E-03*np.power(X,3) + 5.176E-03*np.power(X,2) - 1.017E-02*np.power(X,1) + 1.458E-02\t\t\t\t\n",
    "    alt_dep=(1000-h)*(1000-h)*A+(1000-h)*B\n",
    "    Y=Y1000*np.exp(alt_dep)\n",
    "    return Y\n",
    "\n",
    "def Y_NM_Mi20_p(energy, h):\n",
    "    P=np.sqrt(energy*energy+2*0.938*energy)\n",
    "    X=np.log(P)\n",
    "    #if energy<1.25:\n",
    "    #    a,b,c,d=6.09,\t-14.06,\t13.98,\t-11.615\n",
    "    if energy<1.28:\n",
    "        a,b,c,d=0,\t-8.6616,\t13.879,\t-12.104\n",
    "    elif energy >=1.28 and energy<10:\n",
    "        a,b,c,d=-0.186,\t0.428,\t2.831,\t-8.76\n",
    "    else:\n",
    "        a,b,c,d=0,\t-0.0365,\t1.206,\t-4.763\n",
    "    LnY1000=a*X*X*X+b*X*X+c*X+d\n",
    "    Y1000=np.exp(LnY1000)\n",
    "    A= 6.945E-09*np.power(X,5) - 1.461E-07*np.power(X,4) + 1.115E-06*np.power(X,3) - 3.402E-06*np.power(X,2) + 3.355E-06*np.power(X,1) - 9.823E-07\n",
    "    B= -3.963E-06*np.power(X,5) + 8.091E-05*np.power(X,4) - 6.394E-04*np.power(X,3) + 2.348E-03*np.power(X,2) - 4.713E-03*np.power(X,1) + 1.186E-02\n",
    "    alt_dep=(1000-h)*(1000-h)*A+(1000-h)*B\n",
    "    Y=Y1000*np.exp(alt_dep)\n",
    "    return Y"
   ]
  },
  {
   "cell_type": "code",
   "execution_count": 43,
   "id": "17d5e846",
   "metadata": {},
   "outputs": [],
   "source": [
    "    data_protons = load_obj('p_PAM_CR')\n",
    "    data_he = load_obj('a_PAM_CR')\n",
    "\n",
    "    newprot = []\n",
    "\n",
    "    for k in data_protons:\n",
    "        x = np.log10(data_protons[k][4])\n",
    "        y = np.log10(data_protons[k][6])\n",
    "        f = interpolate.interp1d(x, y, fill_value=\"extrapolate\")\n",
    "\n",
    "        xnew = np.log10(data_he[k][4])\n",
    "        ynew=f(xnew)\n",
    "\n",
    "        newprot.append(10**ynew)"
   ]
  },
  {
   "cell_type": "code",
   "execution_count": 44,
   "id": "2194a150",
   "metadata": {},
   "outputs": [],
   "source": [
    "def heppam(ener):\n",
    "    \n",
    "    data_protons = load_obj('p_PAM_CR')\n",
    "    data_he = load_obj('a_PAM_CR')\n",
    "\n",
    "    newprot = []\n",
    "\n",
    "    for k in data_protons:\n",
    "        x = np.log10(data_protons[k][4])\n",
    "        y = np.log10(data_protons[k][6])\n",
    "        f = interpolate.interp1d(x, y, fill_value=\"extrapolate\")\n",
    "\n",
    "        xnew = np.log10(data_he[k][4])\n",
    "        ynew=f(xnew)\n",
    "\n",
    "        newprot.append(10**ynew)\n",
    "        \n",
    "        \n",
    "    iheavy = open('C:\\\\Users\\\\ginti\\\\Desktop\\\\nirs\\\\heavyp.txt','r')\n",
    "    linesiheavy = iheavy.readlines()\n",
    "    heavy = []\n",
    "    for x in linesiheavy:\n",
    "        heavy.append(x.split()[0])\n",
    "    iheavy.close()\n",
    "\n",
    "    l = 0\n",
    "    hep = []\n",
    "    meh = []\n",
    "\n",
    "    for i in data_he:\n",
    "        a = (float(data_he[i].iloc[[ener], [6]].values)*(1 + float(heavy[ener])))/float(newprot[l][ener])\n",
    "        hep.append(a)                \n",
    "        l+=1\n",
    "        \n",
    "    return hep"
   ]
  },
  {
   "cell_type": "code",
   "execution_count": 45,
   "id": "b003620e",
   "metadata": {},
   "outputs": [],
   "source": [
    "def summ1(pc,depth):\n",
    "    \n",
    "    tt = depth\n",
    "    \n",
    "    data_protons = load_obj('p_PAM_CR')\n",
    "    data_he = load_obj('a_PAM_CR')\n",
    "    \n",
    "    al = []\n",
    "    s1 = 0\n",
    "    \n",
    "    for j in data_protons:\n",
    "        for k in range(0,98):\n",
    "            if float(data_protons[j].iloc[[k], [0]].values) > pc:            \n",
    "                a = float(data_protons[j].iloc[[k], [4]].values)\n",
    "                b = Y_NM_Mi20_p(a,tt) * float(data_protons[j].iloc[[k], [6]].values)\n",
    "                c = float(data_protons[j].iloc[[k+1], [4]].values)\n",
    "                d = Y_NM_Mi20_p(c,tt) * float(data_protons[j].iloc[[k+1], [6]].values)\n",
    "                s1 += integral(b, d, a, c)\n",
    "        al.append(s1)\n",
    "        s1 = 0\n",
    "        \n",
    "    s2 = 0\n",
    "    an = []\n",
    "    \n",
    "    iheavy = open('C:\\\\Users\\\\ginti\\\\Desktop\\\\nirs\\\\heavyp.txt','r')\n",
    "    linesiheavy = iheavy.readlines()\n",
    "    heavy = []\n",
    "    for x in linesiheavy:\n",
    "        heavy.append(x.split()[0])\n",
    "    iheavy.close()\n",
    "    \n",
    "    for j in data_he:\n",
    "        for k in range(0,49):        \n",
    "            if float(data_he[j].iloc[[k], [0]].values) > pc:\n",
    "                a = float(data_he[j].iloc[[k], [4]].values)\n",
    "                b = Y_NM_Mi20_a(a,tt) * float(data_he[j].iloc[[k], [6]].values) * (1 + float(heavy[k]))\n",
    "                c = float(data_he[j].iloc[[k+1], [4]].values)\n",
    "                d = Y_NM_Mi20_a(c,tt) * float(data_he[j].iloc[[k+1], [6]].values)  * (1 + float(heavy[k]))\n",
    "                s2 += integral(b, d, a, c)\n",
    "        an.append(4*s2)\n",
    "        s2 = 0\n",
    "    nn = []\n",
    "    \n",
    "    for i in range(len(an)):\n",
    "        phe = al[i] + an[i]\n",
    "        nn.append(phe)\n",
    "        \n",
    "    return nn"
   ]
  },
  {
   "cell_type": "code",
   "execution_count": 46,
   "id": "895b6772",
   "metadata": {},
   "outputs": [],
   "source": [
    "time = load_obj('time_PAM_CR')\n",
    "t = []\n",
    "for j in range(0, 51):\n",
    "    a = float(time.iloc[[j], [0]].values)\n",
    "    t.append(a)"
   ]
  },
  {
   "cell_type": "code",
   "execution_count": 47,
   "id": "4df64417",
   "metadata": {},
   "outputs": [],
   "source": [
    "n57 = summ1(6.90668,886.94)\n",
    "nn57 = []\n",
    "for i in n57:\n",
    "    nn57.append(i/(sum(n57)/len(n57)))\n",
    "n010 = summ1(0,1025.07)\n",
    "nn010 = []\n",
    "for i in n010:\n",
    "    nn010.append(i/(sum(n010)/len(n010)))"
   ]
  },
  {
   "cell_type": "code",
   "execution_count": 48,
   "id": "e6a3be1b",
   "metadata": {
    "scrolled": false
   },
   "outputs": [
    {
     "data": {
      "text/plain": [
       "Text(0, 0.5, '$NM_{1}/NM_{2}$')"
      ]
     },
     "execution_count": 48,
     "metadata": {},
     "output_type": "execute_result"
    },
    {
     "data": {
      "image/png": "[encoded data removed]",
      "text/plain": [
       "<Figure size 432x288 with 1 Axes>"
      ]
     },
     "metadata": {
      "needs_background": "light"
     },
     "output_type": "display_data"
    }
   ],
   "source": [
    "nnn=[]\n",
    "for i in range(len(n57)):\n",
    "    a=nn010[i]/nn57[i]\n",
    "    nnn.append(a)\n",
    "    \n",
    "fig = plt.figure()\n",
    "plt.scatter(t, nnn, c=t, cmap=\"plasma\")\n",
    "plt.xlabel('t')\n",
    "plt.ylabel('$NM_{1}/NM_{2}$')"
   ]
  },
  {
   "cell_type": "code",
   "execution_count": 49,
   "id": "a3d8877b",
   "metadata": {},
   "outputs": [],
   "source": [
    "data_he = load_obj('a_PAM_CR')"
   ]
  },
  {
   "cell_type": "code",
   "execution_count": 50,
   "id": "3b7cb496",
   "metadata": {
    "scrolled": true
   },
   "outputs": [],
   "source": [
    "hepp = []\n",
    "for k in range(len(data_he[2045])):\n",
    "    he = heppam(k)\n",
    "    hepp.append(he)"
   ]
  },
  {
   "cell_type": "code",
   "execution_count": 51,
   "id": "65752290",
   "metadata": {
    "scrolled": false
   },
   "outputs": [
    {
     "name": "stdout",
     "output_type": "stream",
     "text": [
      "[0.70633178179456, 0.8280546959892201, 0.8554885438597175, 0.9065818775388207, 0.9142663615391472, 0.9165593790767053, 0.9145561504812395, 0.9138777654158814, 0.8963800936572662, 0.8959992621902237, 0.9043680567509931, 0.9070375628353193, 0.9169440436463934, 0.8846120321605593, 0.8126189243063738, 0.6834178703292073, 0.7178960417922349, 0.5177079070444925, 0.4194239767352347, 0.30545846792953824, 0.224739724421806, 0.3659083241257888, 0.11586682799540848, 0.16072924013610423, 0.017488525885679507, 0.03367659760638897, 0.03875739446848536, 0.0001820735133950535, 0.0038174540475285346, 0.0049257701664057185, 0.13345350038099468, 0.015605480744563138, 0.014311508903408487, 0.11966612856544012, 0.3057442730576939, 2.220446049250313e-16, 0.22342299035562196, 0.0, 0.0, 0.1816389593677129, 0.0, 2.220446049250313e-16, 0.0, 0.1816389593677129, 0.0, 0.0, 0.0, 0.0, 0.0, 0.0]\n"
     ]
    }
   ],
   "source": [
    "corr = []\n",
    "for k in hepp:\n",
    "    x = np.array(k).reshape((-1, 1))\n",
    "    y = np.array(nnn)\n",
    "    model = LinearRegression().fit(x, y)\n",
    "\n",
    "    x_train = x.reshape(-1, 1)\n",
    "    x_test = x.reshape(-1, 1)\n",
    "    y_pred = model.predict(x_test)\n",
    "    coefficient_of_dermination2 = r2_score(y, y_pred)\n",
    "    corr.append(coefficient_of_dermination2)\n",
    "\n",
    "print(corr)"
   ]
  },
  {
   "cell_type": "code",
   "execution_count": 52,
   "id": "3d3b4e49",
   "metadata": {},
   "outputs": [],
   "source": [
    "corr1 = [0.6768864269100521, 0.7085446436720627, 0.7518387913291262, 0.8027745269205518, 0.8197017334440486, 0.8548145565851254, 0.8798657424417325, 0.9023521672916893, 0.9220811885083551, 0.9369083183645341, 0.9484088033244698, 0.954932079501124, 0.966478696286482, 0.9709392920451143, 0.9755994807531823, 0.9784646085415746, 0.9821589453645253, 0.9791572451160455, 0.97660447357252, 0.9621079123113129, 0.9567829350303549, 0.9465977923688597, 0.9168504108402237, 0.9074802694905649, 0.8643100277434572, 0.780737560421736, 0.7639664793360322, 0.6316369876282631, 0.6381292154885404, 0.6107485510173727, 0.3690005326242509, 0.36418212226112756, 0.32497087416967774, 0.15541319790021357, 0.08780247638318006, 0.06331316577325319, 0.09786550850493292, 0.02437106699488545, 0.14982910510209124, 0.009691088796305314, 0.023672244079186333, 0.019643226332787256, 0.024052144407204934, 0.019871054496432006, 0.001154188526339528, 4.553299812071199e-05, 0.003682484779841344, 0.0013046071297685424, 0.0008806594882770913, 0.00056425036253549, -2.220446049250313e-16, 0.0, 0.0, 0.0, 0.0, -2.220446049250313e-16, 0.0, -2.220446049250313e-16, 0.0, -2.220446049250313e-16, 0.0, 0.0, 0.0, -2.220446049250313e-16, 0.0, 0.0, 0.0, 0.0]"
   ]
  },
  {
   "cell_type": "code",
   "execution_count": 53,
   "id": "39f88d67",
   "metadata": {},
   "outputs": [
    {
     "data": {
      "text/plain": [
       "Text(0, 0.5, 'Corr')"
      ]
     },
     "execution_count": 53,
     "metadata": {},
     "output_type": "execute_result"
    },
    {
     "data": {
      "image/png": "[encoded data removed]",
      "text/plain": [
       "<Figure size 432x288 with 1 Axes>"
      ]
     },
     "metadata": {
      "needs_background": "light"
     },
     "output_type": "display_data"
    }
   ],
   "source": [
    "ener = data_he[2045][4]\n",
    "data_he1 = load_obj('AMS_spec_he')\n",
    "ener1 = data_he1[2426][4]\n",
    "\n",
    "fig, ax = plt.subplots()\n",
    "ax.plot(ener1[:40], corr1[:40])\n",
    "ax.plot(ener[:30], corr[:30])\n",
    "\n",
    "ax.legend([\"Corr(E) AMS\", \"Corr(E) PAM\"])\n",
    "ax.set_xlabel(\"E, ГэВ/нуклон\")\n",
    "ax.set_ylabel(\"Corr\")"
   ]
  },
  {
   "cell_type": "code",
   "execution_count": null,
   "id": "c308984d",
   "metadata": {},
   "outputs": [],
   "source": []
  }
 ],
 "metadata": {
  "kernelspec": {
   "display_name": "Python 3",
   "language": "python",
   "name": "python3"
  },
  "language_info": {
   "codemirror_mode": {
    "name": "ipython",
    "version": 3
   },
   "file_extension": ".py",
   "mimetype": "text/x-python",
   "name": "python",
   "nbconvert_exporter": "python",
   "pygments_lexer": "ipython3",
   "version": "3.8.8"
  }
 },
 "nbformat": 4,
 "nbformat_minor": 5
}
