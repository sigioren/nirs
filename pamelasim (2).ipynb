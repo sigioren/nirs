{
 "cells": [
  {
   "cell_type": "code",
   "execution_count": 1,
   "id": "cdabdd48",
   "metadata": {},
   "outputs": [
    {
     "name": "stderr",
     "output_type": "stream",
     "text": [
      "C:\\Users\\ginti\\anaconda3\\lib\\site-packages\\scipy\\__init__.py:138: UserWarning: A NumPy version >=1.16.5 and <1.23.0 is required for this version of SciPy (detected version 1.24.2)\n",
      "  warnings.warn(f\"A NumPy version >={np_minversion} and <{np_maxversion} is required for this version of \"\n"
     ]
    }
   ],
   "source": [
    "import pickle\n",
    "import pandas as pd\n",
    "import numpy as np\n",
    "import matplotlib.pyplot as plt\n",
    "import seaborn as sb\n",
    "\n",
    "def integral(Y1,Y2,E1,E2):\n",
    "    INT=(Y2*E2-Y1*E1)/((np.log(Y2/Y1)/np.log(E2/E1)+1))\n",
    "    #print(E1,E2,INT)\n",
    "    return INT\n",
    "\n",
    "def load_obj(name):\n",
    "    with open('C:\\\\Users\\\\ginti\\\\Desktop\\\\nirs\\\\' + name + '.pkl', 'rb') as f:\n",
    "        return pickle.load(f)\n",
    "    \n",
    "def Y_NM_Mi20_a(energy,h):\n",
    "    P=np.sqrt(energy*energy+2*0.938*energy)\n",
    "    X=np.log(P)\n",
    "    if energy<1.7:\n",
    "        a,b,c,d=0.5082, -3.0659, 7.2827, -9.5396\n",
    "    #if energy<1.6:\n",
    "    #    a,b,c,d=2.0404,\t-8.1776,\t12.354,\t-11.1\n",
    "    elif (energy>=1.7 and energy<15):\n",
    "        a,b,c,d=0.1179,\t-1.2022,\t4.9329,\t-8.65\n",
    "    else:\n",
    "        a,b,c,d=0,\t-0.0365,\t1.206,\t-4.763\n",
    "    LnY1000=a*X*X*X+b*X*X+c*X+d\n",
    "    Y1000=np.exp(LnY1000)\n",
    "    A = 9.422E-09*np.power(X,5) - 2.284E-07*np.power(X,4) + 2.037E-06*np.power(X,3) - 7.828E-06*np.power(X,2) + 1.203E-05*np.power(X,1) - 5.545E-06\t\t\t\t\t\n",
    "    B = -5.351E-06*np.power(X,5) + 1.316E-04*np.power(X,4) - 1.226E-03*np.power(X,3) + 5.176E-03*np.power(X,2) - 1.017E-02*np.power(X,1) + 1.458E-02\t\t\t\t\n",
    "    alt_dep=(1000-h)*(1000-h)*A+(1000-h)*B\n",
    "    Y=Y1000*np.exp(alt_dep)\n",
    "    return Y\n",
    "\n",
    "def Y_NM_Mi20_p(energy, h):\n",
    "    P=np.sqrt(energy*energy+2*0.938*energy)\n",
    "    X=np.log(P)\n",
    "    #if energy<1.25:\n",
    "    #    a,b,c,d=6.09,\t-14.06,\t13.98,\t-11.615\n",
    "    if energy<1.28:\n",
    "        a,b,c,d=0,\t-8.6616,\t13.879,\t-12.104\n",
    "    elif energy >=1.28 and energy<10:\n",
    "        a,b,c,d=-0.186,\t0.428,\t2.831,\t-8.76\n",
    "    else:\n",
    "        a,b,c,d=0,\t-0.0365,\t1.206,\t-4.763\n",
    "    LnY1000=a*X*X*X+b*X*X+c*X+d\n",
    "    Y1000=np.exp(LnY1000)\n",
    "    A= 6.945E-09*np.power(X,5) - 1.461E-07*np.power(X,4) + 1.115E-06*np.power(X,3) - 3.402E-06*np.power(X,2) + 3.355E-06*np.power(X,1) - 9.823E-07\n",
    "    B= -3.963E-06*np.power(X,5) + 8.091E-05*np.power(X,4) - 6.394E-04*np.power(X,3) + 2.348E-03*np.power(X,2) - 4.713E-03*np.power(X,1) + 1.186E-02\n",
    "    alt_dep=(1000-h)*(1000-h)*A+(1000-h)*B\n",
    "    Y=Y1000*np.exp(alt_dep)\n",
    "    return Y"
   ]
  },
  {
   "cell_type": "code",
   "execution_count": 3,
   "id": "dfa961d6",
   "metadata": {},
   "outputs": [],
   "source": [
    "def summ1(pc,depth):\n",
    "    \n",
    "    tt = depth\n",
    "    \n",
    "    data_protons = load_obj('p_PAM_CR')\n",
    "    data_he = load_obj('a_PAM_CR')\n",
    "    \n",
    "    al = []\n",
    "    s1 = 0\n",
    "    \n",
    "    for j in data_protons:\n",
    "        for k in range(0,98):\n",
    "            if float(data_protons[j].iloc[[k], [0]].values) > pc:            \n",
    "                a = float(data_protons[j].iloc[[k], [4]].values)\n",
    "                b = Y_NM_Mi20_p(a,tt) * float(data_protons[j].iloc[[k], [6]].values)\n",
    "                c = float(data_protons[j].iloc[[k+1], [4]].values)\n",
    "                d = Y_NM_Mi20_p(c,tt) * float(data_protons[j].iloc[[k+1], [6]].values)\n",
    "                s1 += integral(b, d, a, c)\n",
    "        al.append(s1)\n",
    "        s1 = 0\n",
    "        \n",
    "    s2 = 0\n",
    "    an = []\n",
    "    \n",
    "    iheavy = open('C:\\\\Users\\\\ginti\\\\Desktop\\\\nirs\\\\heavy.txt','r')\n",
    "    linesiheavy = iheavy.readlines()\n",
    "    heavy = []\n",
    "    for x in linesiheavy:\n",
    "        heavy.append(x.split()[1])\n",
    "    iheavy.close()\n",
    "    \n",
    "    for j in data_he:\n",
    "        for k in range(0,49):        \n",
    "            if float(data_he[j].iloc[[k], [0]].values) > pc:\n",
    "                a = float(data_he[j].iloc[[k], [4]].values)\n",
    "                b = Y_NM_Mi20_a(a,tt) * float(data_he[j].iloc[[k], [6]].values) * (1 + float(heavy[k+1]))\n",
    "                c = float(data_he[j].iloc[[k+1], [4]].values)\n",
    "                d = Y_NM_Mi20_a(c,tt) * float(data_he[j].iloc[[k+1], [6]].values)  * (1 + float(heavy[k+1]))\n",
    "                s2 += integral(b, d, a, c)\n",
    "        an.append(4*s2)\n",
    "        s2 = 0\n",
    "    nn = []\n",
    "    \n",
    "    for i in range(len(an)):\n",
    "        phe = al[i] + an[i]\n",
    "        nn.append(phe)\n",
    "        \n",
    "    return nn"
   ]
  },
  {
   "cell_type": "code",
   "execution_count": 4,
   "id": "eacc5127",
   "metadata": {},
   "outputs": [],
   "source": [
    "def summ3(pc):\n",
    "    \n",
    "    data_protons = load_obj('p_PAM_CR')\n",
    "    data_he = load_obj('a_PAM_CR')\n",
    "    \n",
    "    al = []\n",
    "    s1 = 0\n",
    "    \n",
    "    for j in data_protons:\n",
    "        for k in range(0,98):\n",
    "            if float(data_protons[j].iloc[[k], [0]].values) > pc:            \n",
    "                a = float(data_protons[j].iloc[[k], [4]].values)\n",
    "                b = a * float(data_protons[j].iloc[[k], [6]].values)\n",
    "                c = float(data_protons[j].iloc[[k+1], [4]].values)\n",
    "                d = c * float(data_protons[j].iloc[[k+1], [6]].values)\n",
    "                s1 += integral(b, d, a, c)\n",
    "        al.append(s1)\n",
    "        s1 = 0\n",
    "        \n",
    "    s2 = 0\n",
    "    an = []\n",
    "    \n",
    "    iheavy = open('C:\\\\Users\\\\ginti\\\\Desktop\\\\nirs\\\\heavy.txt','r')\n",
    "    linesiheavy = iheavy.readlines()\n",
    "    heavy = []\n",
    "    for x in linesiheavy:\n",
    "        heavy.append(x.split()[1])\n",
    "    iheavy.close()\n",
    "    \n",
    "    for j in data_he:\n",
    "        for k in range(0,49):        \n",
    "            if float(data_he[j].iloc[[k], [0]].values) > pc:\n",
    "                a = float(data_he[j].iloc[[k], [4]].values)\n",
    "                b = a * float(data_he[j].iloc[[k], [6]].values) * (1 + float(heavy[k+1]))\n",
    "                c = float(data_he[j].iloc[[k+1], [4]].values)\n",
    "                d = c * float(data_he[j].iloc[[k+1], [6]].values)  * (1 + float(heavy[k+1]))\n",
    "                s2 += integral(b, d, a, c)\n",
    "        an.append(4*s2)\n",
    "        s2 = 0\n",
    "    nn = []\n",
    "    \n",
    "    for i in range(len(an)):\n",
    "        if al[i] == 0 :\n",
    "            phe = 0\n",
    "        else:\n",
    "            phe = an[i] / al[i]\n",
    "        nn.append(phe)\n",
    "          \n",
    "    return nn"
   ]
  },
  {
   "cell_type": "code",
   "execution_count": 5,
   "id": "b67ee7c9",
   "metadata": {},
   "outputs": [],
   "source": [
    "def summ4(ener):\n",
    "    \n",
    "    data_protons = load_obj('p_PAM_CR')\n",
    "    data_he = load_obj('a_PAM_CR')\n",
    "    \n",
    "    al = []\n",
    "    s1 = 0\n",
    "    \n",
    "    for j in data_protons:\n",
    "        for k in range(0,98):\n",
    "            if float(data_protons[j].iloc[[k], [4]].values) > ener:            \n",
    "                a = float(data_protons[j].iloc[[k], [4]].values)\n",
    "                b = a * float(data_protons[j].iloc[[k], [6]].values)\n",
    "                c = float(data_protons[j].iloc[[k+1], [4]].values)\n",
    "                d = c * float(data_protons[j].iloc[[k+1], [6]].values)\n",
    "                s1 += integral(b, d, a, c)\n",
    "        al.append(s1)\n",
    "        s1 = 0\n",
    "        \n",
    "    s2 = 0\n",
    "    an = []\n",
    "    \n",
    "    iheavy = open('C:\\\\Users\\\\ginti\\\\Desktop\\\\nirs\\\\heavy.txt','r')\n",
    "    linesiheavy = iheavy.readlines()\n",
    "    heavy = []\n",
    "    for x in linesiheavy:\n",
    "        heavy.append(x.split()[1])\n",
    "    iheavy.close()\n",
    "    \n",
    "    for j in data_he:\n",
    "        for k in range(0,49):        \n",
    "            if float(data_he[j].iloc[[k], [4]].values) > ener:\n",
    "                a = float(data_he[j].iloc[[k], [4]].values)\n",
    "                b = a * float(data_he[j].iloc[[k], [6]].values) * (1 + float(heavy[k+1]))\n",
    "                c = float(data_he[j].iloc[[k+1], [4]].values)\n",
    "                d = c * float(data_he[j].iloc[[k+1], [6]].values)  * (1 + float(heavy[k+1]))\n",
    "                s2 += integral(b, d, a, c)\n",
    "        an.append(4*s2)\n",
    "        s2 = 0\n",
    "    nn = []\n",
    "    \n",
    "    for i in range(len(an)):\n",
    "        if al[i] == 0 :\n",
    "            phe = 0\n",
    "        else:\n",
    "            phe = an[i] / al[i]\n",
    "        nn.append(phe)\n",
    " \n",
    "    return nn"
   ]
  },
  {
   "cell_type": "code",
   "execution_count": 17,
   "id": "ad04b03c",
   "metadata": {},
   "outputs": [
    {
     "name": "stdout",
     "output_type": "stream",
     "text": [
      "              0            1            2     3                   4  \\\n",
      "0   2006.496005  2006.569977  2006.532991  2045 2006-07-01 01:00:00   \n",
      "1   2006.569977  2006.646689  2006.608333  2046 2006-07-28 01:00:00   \n",
      "2   2006.646689  2006.720662  2006.683676  2047 2006-08-25 01:00:00   \n",
      "3   2006.720662  2006.794635  2006.757648  2048 2006-09-21 01:00:00   \n",
      "4   2006.794635  2006.868493  2006.831564  2049 2006-10-18 01:00:00   \n",
      "5   2006.868493  2006.945205  2006.906849  2050 2006-11-14 00:00:00   \n",
      "6   2007.019178  2007.093151  2007.056164  2052 2007-01-08 00:00:00   \n",
      "7   2007.093151  2007.169863  2007.131507  2053 2007-02-04 00:00:00   \n",
      "8   2007.169863   2007.24395  2007.206906  2054 2007-03-04 00:00:00   \n",
      "9    2007.24395  2007.317922  2007.280936  2055 2007-03-31 01:00:00   \n",
      "10  2007.317922  2007.391895  2007.354909  2056 2007-04-27 01:00:00   \n",
      "11  2007.391895  2007.468607  2007.430251  2057 2007-05-24 01:00:00   \n",
      "12  2007.468607   2007.54258  2007.505594  2058 2007-06-21 01:00:00   \n",
      "13   2007.54258  2007.616553  2007.579566  2059 2007-07-18 01:00:00   \n",
      "14  2007.616553  2007.690525  2007.653539  2060 2007-08-14 01:00:00   \n",
      "15  2007.690525  2007.767237  2007.728881  2061 2007-09-10 01:00:00   \n",
      "16  2007.767237  2007.841096  2007.804167  2062 2007-10-08 01:00:00   \n",
      "17  2007.841096  2007.915068  2007.878082  2063 2007-11-04 00:00:00   \n",
      "18  2007.915068  2007.991781  2007.953425  2064 2007-12-01 00:00:00   \n",
      "19  2007.991781  2008.065574  2008.028689  2065 2007-12-29 00:00:00   \n",
      "20  2008.065574  2008.139344  2008.102459  2066 2008-01-25 00:00:00   \n",
      "21  2008.139344  2008.215847  2008.177596  2067 2008-02-21 00:00:00   \n",
      "22  2008.215847  2008.289731  2008.252789  2068 2008-03-20 00:00:00   \n",
      "23  2008.289731  2008.363502  2008.326617  2069 2008-04-16 01:00:00   \n",
      "24  2008.363502  2008.437272  2008.400387  2070 2008-05-13 01:00:00   \n",
      "25  2008.437272  2008.511043  2008.474158  2071 2008-06-09 01:00:00   \n",
      "26  2008.511043  2008.587546  2008.549294  2072 2008-07-06 01:00:00   \n",
      "27  2008.587546  2008.661316  2008.624431  2073 2008-08-03 01:00:00   \n",
      "28  2008.661316  2008.735087  2008.698201  2074 2008-08-30 01:00:00   \n",
      "29  2008.735087  2008.808857  2008.771972  2075 2008-09-26 01:00:00   \n",
      "30  2008.808857  2008.885246  2008.847051  2076 2008-10-23 01:00:00   \n",
      "31  2008.885246  2008.959016  2008.922131  2077 2008-11-20 00:00:00   \n",
      "32  2008.959016  2009.032877  2008.995902  2078 2008-12-17 00:00:00   \n",
      "33  2009.032877  2009.109589  2009.071233  2079 2009-01-13 00:00:00   \n",
      "34  2009.109589  2009.183562  2009.146575  2080 2009-02-10 00:00:00   \n",
      "35  2009.183562  2009.257648  2009.220605  2081 2009-03-09 00:00:00   \n",
      "36  2009.257648  2009.334361  2009.296005  2082 2009-04-05 01:00:00   \n",
      "37  2009.334361  2009.408333  2009.371347  2083 2009-05-03 01:00:00   \n",
      "38  2009.408333  2009.482306   2009.44532  2084 2009-05-30 01:00:00   \n",
      "39  2009.482306  2009.556279  2009.519292  2085 2009-06-26 01:00:00   \n",
      "40  2009.556279  2009.632991  2009.594635  2086 2009-07-23 01:00:00   \n",
      "41  2009.632991  2009.706963  2009.669977  2087 2009-08-20 01:00:00   \n",
      "42  2009.706963  2010.005479  2009.856221  2090 2009-09-16 01:00:00   \n",
      "43  2010.005479  2010.230137  2010.117808  2093 2010-01-03 00:00:00   \n",
      "45   2010.90137  2011.126027  2011.013699  2105 2010-11-26 00:00:00   \n",
      "46  2011.126027  2011.350799  2011.238413  2108 2011-02-16 00:00:00   \n",
      "47  2011.350799  2011.575457  2011.463128  2111 2011-05-09 01:00:00   \n",
      "49  2011.797374  2012.021858  2011.909646  2117 2011-10-19 01:00:00   \n",
      "53  2012.694103  2012.918033  2012.806068  2129 2012-09-11 01:00:00   \n",
      "54  2012.918033  2013.142466  2013.030137  2132 2012-12-02 00:00:00   \n",
      "57  2013.589155  2013.813813  2013.701484  2141 2013-08-04 01:00:00   \n",
      "\n",
      "                     5                   6  \n",
      "0  2006-07-28 01:00:00 2006-07-14 13:00:00  \n",
      "1  2006-08-25 01:00:00 2006-08-11 01:00:00  \n",
      "2  2006-09-21 01:00:00 2006-09-07 13:00:00  \n",
      "3  2006-10-18 01:00:00 2006-10-04 13:00:00  \n",
      "4  2006-11-14 00:00:00 2006-10-31 12:30:00  \n",
      "5  2006-12-12 00:00:00 2006-11-28 00:00:00  \n",
      "6  2007-02-04 00:00:00 2007-01-21 12:00:00  \n",
      "7  2007-03-04 00:00:00 2007-02-18 00:00:00  \n",
      "8  2007-03-31 01:00:00 2007-03-17 12:30:00  \n",
      "9  2007-04-27 01:00:00 2007-04-13 13:00:00  \n",
      "10 2007-05-24 01:00:00 2007-05-10 13:00:00  \n",
      "11 2007-06-21 01:00:00 2007-06-07 01:00:00  \n",
      "12 2007-07-18 01:00:00 2007-07-04 13:00:00  \n",
      "13 2007-08-14 01:00:00 2007-07-31 13:00:00  \n",
      "14 2007-09-10 01:00:00 2007-08-27 13:00:00  \n",
      "15 2007-10-08 01:00:00 2007-09-24 01:00:00  \n",
      "16 2007-11-04 00:00:00 2007-10-21 12:30:00  \n",
      "17 2007-12-01 00:00:00 2007-11-17 12:00:00  \n",
      "18 2007-12-29 00:00:00 2007-12-15 00:00:00  \n",
      "19 2008-01-25 00:00:00 2008-01-11 12:00:00  \n",
      "20 2008-02-21 00:00:00 2008-02-07 12:00:00  \n",
      "21 2008-03-20 00:00:00 2008-03-06 00:00:00  \n",
      "22 2008-04-16 01:00:00 2008-04-02 12:30:00  \n",
      "23 2008-05-13 01:00:00 2008-04-29 13:00:00  \n",
      "24 2008-06-09 01:00:00 2008-05-26 13:00:00  \n",
      "25 2008-07-06 01:00:00 2008-06-22 13:00:00  \n",
      "26 2008-08-03 01:00:00 2008-07-20 01:00:00  \n",
      "27 2008-08-30 01:00:00 2008-08-16 13:00:00  \n",
      "28 2008-09-26 01:00:00 2008-09-12 13:00:00  \n",
      "29 2008-10-23 01:00:00 2008-10-09 13:00:00  \n",
      "30 2008-11-20 00:00:00 2008-11-06 00:30:00  \n",
      "31 2008-12-17 00:00:00 2008-12-03 12:00:00  \n",
      "32 2009-01-13 00:00:00 2008-12-30 12:00:00  \n",
      "33 2009-02-10 00:00:00 2009-01-27 00:00:00  \n",
      "34 2009-03-09 00:00:00 2009-02-23 12:00:00  \n",
      "35 2009-04-05 01:00:00 2009-03-22 12:30:00  \n",
      "36 2009-05-03 01:00:00 2009-04-19 01:00:00  \n",
      "37 2009-05-30 01:00:00 2009-05-16 13:00:00  \n",
      "38 2009-06-26 01:00:00 2009-06-12 13:00:00  \n",
      "39 2009-07-23 01:00:00 2009-07-09 13:00:00  \n",
      "40 2009-08-20 01:00:00 2009-08-06 01:00:00  \n",
      "41 2009-09-16 01:00:00 2009-09-02 13:00:00  \n",
      "42 2010-01-03 00:00:00 2009-11-09 12:30:00  \n",
      "43 2010-03-26 00:00:00 2010-02-13 00:00:00  \n",
      "45 2011-02-16 00:00:00 2011-01-06 00:00:00  \n",
      "46 2011-05-09 01:00:00 2011-03-29 00:30:00  \n",
      "47 2011-07-30 01:00:00 2011-06-19 01:00:00  \n",
      "49 2012-01-09 00:00:00 2011-11-29 00:30:00  \n",
      "53 2012-12-02 00:00:00 2012-10-22 00:30:00  \n",
      "54 2013-02-22 00:00:00 2013-01-12 00:00:00  \n",
      "57 2013-10-25 01:00:00 2013-09-14 01:00:00  \n"
     ]
    }
   ],
   "source": [
    "time = load_obj('time_PAM_CR')\n",
    "t = []\n",
    "print(time)\n",
    "for j in range(0,51):\n",
    "    a = float(time.iloc[[j], [2]].values)\n",
    "    t.append(a)"
   ]
  },
  {
   "cell_type": "code",
   "execution_count": 18,
   "id": "c84dfaf3",
   "metadata": {},
   "outputs": [],
   "source": [
    "n57 = summ1(6.90668,886.94)\n",
    "#n57 = n57[:42]\n",
    "nn57 = []\n",
    "for i in n57:\n",
    "    nn57.append(i/(sum(n57)/len(n57)))\n",
    "n010 = summ1(0,1025.07)\n",
    "#n010 = n010[:42]\n",
    "nn010 = []\n",
    "for i in n010:\n",
    "    nn010.append(i/(sum(n010)/len(n010)))"
   ]
  },
  {
   "cell_type": "code",
   "execution_count": 19,
   "id": "b22020dc",
   "metadata": {
    "scrolled": true
   },
   "outputs": [
    {
     "data": {
      "text/plain": [
       "Text(0, 0.5, '$NM_{1}/NM_{2}$')"
      ]
     },
     "execution_count": 19,
     "metadata": {},
     "output_type": "execute_result"
    },
    {
     "data": {
      "image/png": "[encoded data removed]",
      "text/plain": [
       "<Figure size 432x288 with 1 Axes>"
      ]
     },
     "metadata": {
      "needs_background": "light"
     },
     "output_type": "display_data"
    }
   ],
   "source": [
    "nnn=[]\n",
    "for i in range(len(n57)):\n",
    "    a=nn010[i]/nn57[i]\n",
    "    nnn.append(a)\n",
    "    \n",
    "fig = plt.figure()\n",
    "plt.scatter(t, nnn, c=t, cmap=\"plasma\")\n",
    "plt.xlabel('t')\n",
    "plt.ylabel('$NM_{1}/NM_{2}$')"
   ]
  },
  {
   "cell_type": "code",
   "execution_count": 20,
   "id": "3d53cd01",
   "metadata": {},
   "outputs": [],
   "source": [
    "ee = []\n",
    "tt = [0.6,0.7,0.8,0.9,1,1.1,1.2,1.3,1.4,1.5]\n",
    "for k in tt:\n",
    "    a = summ4(k)\n",
    "    #a = a[:42]\n",
    "    ee.append(a)\n",
    "    \n",
    "corr = []\n",
    "\n",
    "from sklearn.linear_model import LinearRegression\n",
    "from sklearn.metrics import r2_score\n",
    "\n",
    "for k in ee:\n",
    "    x = np.array(k).reshape((-1, 1))\n",
    "    y = np.array(nnn)\n",
    "    model = LinearRegression().fit(x, y)\n",
    "\n",
    "    x_train = x.reshape(-1, 1)\n",
    "    x_test = x.reshape(-1, 1)\n",
    "    y_pred = model.predict(x_test)\n",
    "    coefficient_of_dermination = r2_score(y, y_pred)\n",
    "    corr.append(coefficient_of_dermination)"
   ]
  },
  {
   "cell_type": "code",
   "execution_count": 25,
   "id": "46eaaa55",
   "metadata": {
    "scrolled": false
   },
   "outputs": [
    {
     "data": {
      "image/png": "[encoded data removed]",
      "text/plain": [
       "<Figure size 432x288 with 1 Axes>"
      ]
     },
     "metadata": {
      "needs_background": "light"
     },
     "output_type": "display_data"
    }
   ],
   "source": [
    "fig, ax = plt.subplots()\n",
    "ax.plot(tt, corr)\n",
    "ax.plot(tt, corr2)\n",
    "\n",
    "ax2 = ax.secondary_xaxis(\"top\")\n",
    "\n",
    "ax2.set_xlabel(\"E, ГэВ/нуклон\")\n",
    "ax.set_xlabel(\"R, ГВ\")\n",
    "ax.set_ylabel(\"Corr\")\n",
    "ax.legend([\"Corr(E)\", \"Corr(R)\"])\n",
    "plt.show()"
   ]
  },
  {
   "cell_type": "code",
   "execution_count": 21,
   "id": "d85bf4f3",
   "metadata": {},
   "outputs": [
    {
     "name": "stdout",
     "output_type": "stream",
     "text": [
      "[0.6313889484383395, 0.5082654788051826, 0.4352250137902034, 0.26600063505645744, 0.24509523767633123, 0.19812723764259887, 0.17571916532548837, 0.13257498716458838, 0.10568914616562675, 0.061004554322680926]\n"
     ]
    }
   ],
   "source": [
    "eph = []\n",
    "for k in range(1,11):\n",
    "    a = summ4(k)\n",
    "    eph.append(a)\n",
    "    \n",
    "corr3 = []\n",
    "\n",
    "from sklearn.linear_model import LinearRegression\n",
    "from sklearn.metrics import r2_score\n",
    "\n",
    "for k in eph:\n",
    "    x = np.array(k).reshape((-1, 1))\n",
    "    y = np.array(nnn)\n",
    "    model = LinearRegression().fit(x, y)\n",
    "\n",
    "    x_train = x.reshape(-1, 1)\n",
    "    x_test = x.reshape(-1, 1)\n",
    "    y_pred = model.predict(x_test)\n",
    "    coefficient_of_dermination = r2_score(y, y_pred)\n",
    "    corr3.append(coefficient_of_dermination)\n",
    "\n",
    "print(corr3)"
   ]
  },
  {
   "cell_type": "code",
   "execution_count": 22,
   "id": "e955c576",
   "metadata": {},
   "outputs": [
    {
     "name": "stdout",
     "output_type": "stream",
     "text": [
      "[0.4691432659223348, 0.2538289556153639, 0.15183742345618456, 0.11074549152452762, 0.08423055703659643, 0.056701427669589854, 0.043439716683142726, 0.04281449835514628, 0.03876818092243739, 0.030732089677869334]\n"
     ]
    }
   ],
   "source": [
    "rph = []\n",
    "for k in range(1,11):\n",
    "    a = summ3(k)\n",
    "    rph.append(a)\n",
    "    \n",
    "corr4 = []\n",
    "\n",
    "for k in rph:\n",
    "    x = np.array(k).reshape((-1, 1))\n",
    "    y = np.array(nnn)\n",
    "    model = LinearRegression().fit(x, y)\n",
    "\n",
    "    x_train = x.reshape(-1, 1)\n",
    "    x_test = x.reshape(-1, 1)\n",
    "    y_pred = model.predict(x_test)\n",
    "    coefficient_of_dermination2 = r2_score(y, y_pred)\n",
    "    corr4.append(coefficient_of_dermination2)\n",
    "\n",
    "    \n",
    "print(corr4)"
   ]
  },
  {
   "cell_type": "code",
   "execution_count": 24,
   "id": "dc749622",
   "metadata": {},
   "outputs": [
    {
     "data": {
      "image/png": "[encoded data removed]",
      "text/plain": [
       "<Figure size 432x288 with 1 Axes>"
      ]
     },
     "metadata": {
      "needs_background": "light"
     },
     "output_type": "display_data"
    }
   ],
   "source": [
    "eeph = [1,2,3,4,5,6,7,8,9,10]\n",
    "rrph = [1,2,3,4,5,6,7,8,9,10]\n",
    "\n",
    "fig, ax = plt.subplots()\n",
    "ax.plot(eeph, corr3)\n",
    "ax.plot(rrph, corr4)\n",
    "\n",
    "ax2 = ax.secondary_xaxis(\"top\")\n",
    "\n",
    "ax2.set_xlabel(\"E, ГэВ/нуклон\")\n",
    "ax.set_xlabel(\"R, ГВ\")\n",
    "ax.set_ylabel(\"Corr\")\n",
    "ax.legend([\"Corr(E)\", \"Corr(R)\"])\n",
    "plt.show()"
   ]
  },
  {
   "cell_type": "code",
   "execution_count": 23,
   "id": "e17ad484",
   "metadata": {},
   "outputs": [],
   "source": [
    "rr = []\n",
    "tt = [0.6,0.7,0.8,0.9,1,1.1,1.2,1.3,1.4,1.5]\n",
    "for k in tt:\n",
    "    a = summ3(k)\n",
    "    rr.append(a)\n",
    "    \n",
    "corr2 = []\n",
    "\n",
    "for k in rr:\n",
    "    x = np.array(k).reshape((-1, 1))\n",
    "    y = np.array(nnn)\n",
    "    model = LinearRegression().fit(x, y)\n",
    "\n",
    "    x_train = x.reshape(-1, 1)\n",
    "    x_test = x.reshape(-1, 1)\n",
    "    y_pred = model.predict(x_test)\n",
    "    coefficient_of_dermination2 = r2_score(y, y_pred)\n",
    "    corr2.append(coefficient_of_dermination2)"
   ]
  },
  {
   "cell_type": "code",
   "execution_count": 26,
   "id": "e6918592",
   "metadata": {},
   "outputs": [],
   "source": [
    "phee1 = summ4(1.2)"
   ]
  },
  {
   "cell_type": "code",
   "execution_count": 27,
   "id": "4c5fc19d",
   "metadata": {},
   "outputs": [
    {
     "data": {
      "image/png": "[encoded data removed]",
      "text/plain": [
       "<Figure size 432x288 with 1 Axes>"
      ]
     },
     "metadata": {
      "needs_background": "light"
     },
     "output_type": "display_data"
    },
    {
     "name": "stdout",
     "output_type": "stream",
     "text": [
      "[-0.59141027] 1.2193869265442474\n"
     ]
    }
   ],
   "source": [
    "from sklearn.linear_model import LinearRegression\n",
    "from sklearn.metrics import mean_squared_error, r2_score\n",
    "\n",
    "plt.scatter(phee1, nnn)\n",
    "\n",
    "x = np.array(phee1).reshape((-1, 1))\n",
    "y = np.array(nnn)\n",
    "model = LinearRegression().fit(x, y)\n",
    "\n",
    "x_train = x.reshape(-1, 1)\n",
    "x_test = x.reshape(-1, 1)\n",
    "y_pred = model.predict(x_test)\n",
    "\n",
    "a = model.coef_\n",
    "b = model.intercept_\n",
    "\n",
    "xx = np.linspace(2.5, 3.1)\n",
    "yy = b + xx*a\n",
    "\n",
    "#plt.plot(xx, yy, color='black', linewidth=1)\n",
    "plt.xlabel('He/p')\n",
    "plt.ylabel('$NM_{1}/NM_{2}$')\n",
    "#plt.legend([\"Фитирующая функция\", \"Исходные данные\"])\n",
    "plt.show()\n",
    "\n",
    "print(a,b)"
   ]
  },
  {
   "cell_type": "code",
   "execution_count": 28,
   "id": "19b19535",
   "metadata": {},
   "outputs": [
    {
     "data": {
      "text/plain": [
       "Text(0, 0.5, '$NM_{1}/NM_{2}$')"
      ]
     },
     "execution_count": 28,
     "metadata": {},
     "output_type": "execute_result"
    },
    {
     "data": {
      "image/png": "[encoded data removed]",
      "text/plain": [
       "<Figure size 432x288 with 1 Axes>"
      ]
     },
     "metadata": {
      "needs_background": "light"
     },
     "output_type": "display_data"
    }
   ],
   "source": [
    "import matplotlib.pyplot as plt\n",
    "import matplotlib as mpl\n",
    "from colorspacious import cspace_converter\n",
    "\n",
    "cmap = plt.cm.Spectral\n",
    "norm = plt.Normalize(vmin=4, vmax=5)\n",
    "plt.scatter(phee1, nnn, c=t, cmap=\"plasma\")\n",
    "#plt.plot(xx, yy, color='black', linewidth=1)\n",
    "plt.xlabel('He/p')\n",
    "plt.ylabel('$NM_{1}/NM_{2}$')"
   ]
  },
  {
   "cell_type": "code",
   "execution_count": 29,
   "id": "8cfcd3c0",
   "metadata": {},
   "outputs": [],
   "source": [
    "tams = [2011.3671232876711, 2011.441095890411, 2011.5150684931507, 2011.5890410958905, 2011.66301369863, 2011.7369863013698, 2011.8109589041096, 2011.8849315068494, 2011.958904109589, 2012.032786885246, 2012.1065573770493, 2012.1803278688524, 2012.2540983606557, 2012.327868852459, 2012.4016393442623, 2012.4754098360656, 2012.549180327869, 2012.622950819672, 2012.6967213114754, 2012.7704918032787, 2012.844262295082, 2012.9180327868853, 2012.9918032786886, 2013.0657534246575, 2013.1397260273973, 2013.213698630137, 2013.2876712328766, 2013.3616438356164, 2013.4356164383562, 2013.509589041096, 2013.5835616438355, 2013.6575342465753, 2013.731506849315, 2013.805479452055, 2013.8794520547945, 2013.9534246575342, 2014.027397260274, 2014.1013698630136, 2014.1753424657534, 2014.2493150684932, 2014.323287671233, 2014.3972602739725, 2014.4712328767123, 2014.545205479452, 2014.6191780821919, 2014.6931506849314, 2014.9150684931508, 2014.9890410958903, 2015.0630136986301, 2015.13698630137, 2015.2109589041097, 2015.2849315068493, 2015.358904109589, 2015.4328767123288, 2015.5068493150684, 2015.5808219178082, 2015.654794520548, 2015.7287671232878, 2015.8027397260273, 2015.876712328767, 2015.9506849315069, 2016.0245901639344, 2016.0983606557377, 2016.172131147541, 2016.2459016393443, 2016.3196721311476, 2016.3934426229507, 2016.467213114754, 2016.5409836065573, 2016.6147540983607, 2016.688524590164, 2016.7622950819673, 2016.8360655737704, 2016.9098360655737, 2016.983606557377, 2017.0575342465754, 2017.131506849315, 2017.2054794520548, 2017.2794520547945]\n",
    "ttotal = t + tams\n",
    "hepams = [0.3978772342344187, 0.4014441338884507, 0.39904524887629605, 0.3999550936141118, 0.396522601321108, 0.40286423481779443, 0.39930179502458546, 0.3960247438155632, 0.3966917751298819, 0.39912971794279334, 0.4010284070293145, 0.4122108723764083, 0.4018180716564586, 0.3996802313088284, 0.4047560636409918, 0.407065663099444, 0.4168802304885591, 0.4157202141305924, 0.4099841595944753, 0.41228825310136025, 0.41177010034650957, 0.40825897781513903, 0.4063962270593539, 0.4040573659861581, 0.4058360671135769, 0.41005385210102063, 0.4095258040323683, 0.4189290468507673, 0.42011022725763225, 0.4180615922274645, 0.4198331385797932, 0.41827369195467945, 0.41473307950089977, 0.41460293715891516, 0.41703009557905707, 0.41672027697940156, 0.4169317641308618, 0.42392571057598033, 0.4181080244793892, 0.4190452564558462, 0.41584163314110567, 0.4169957582204724, 0.41858628896819566, 0.41366370296817045, 0.4102913376415799, 0.4112188275582524, 0.4122668060439256, 0.41366222710300027, 0.4126878898296164, 0.41601270256932, 0.4230711047038617, 0.4184968979409504, 0.4114393581594686, 0.4128706628927561, 0.4092543033634407, 0.40745504361613205, 0.40681416976663437, 0.406674301160442, 0.4055643324154414, 0.40103499674768206, 0.3991391847436099, 0.39569448835137344, 0.39506049051815645, 0.39524938707666807, 0.39407554921684274, 0.39300899099803016, 0.39041098059066726, 0.3918474134752235, 0.3908256144058218, 0.3921314859485911, 0.38889662782374834, 0.3865343627393654, 0.38502994263782175, 0.384629409560202, 0.3849225748452245, 0.38370112672465106, 0.3837797551671677, 0.38319490970402603, 0.38551633705904526]\n",
    "heptotal = phee1 + hepams\n",
    "nnnams = [1.0068264580480648, 1.0024830010440968, 1.0049784320857678, 1.0046618387710227, 1.0055644516979232, 1.000444032904152, 1.0048870107412882, 1.0080463908144608, 1.0079893071348107, 1.0050246235124298, 1.0029451534205422, 0.9913423496378374, 1.001814373753938, 1.0044412618038177, 0.9992244395982627, 0.9970680164118784, 0.9870379876264893, 0.9889944706114574, 0.994197936248753, 0.9913123905433306, 0.9923878489782897, 0.9950413941080555, 0.9979734857466362, 1.0001829465445404, 0.9983680223264091, 0.9948786232872524, 0.9945287514497646, 0.9821748693705583, 0.984216500122353, 0.9859464351402275, 0.9854822109477561, 0.9840353787230964, 0.9877726275051213, 0.9876641509611779, 0.9865566117611517, 0.9866487066903624, 0.9876311054443268, 0.9806346486068491, 0.9836766853900678, 0.9846240717683034, 0.9893220000513705, 0.9876216724174114, 0.9849633339467656, 0.9907568530083963, 0.9948005772219213, 0.994442296464771, 0.99114977196008, 0.9909337303401788, 0.9907699640355729, 0.9875168640245873, 0.9819568348853048, 0.9851676989283374, 0.9931737123798714, 0.992271521738312, 0.9959013143664122, 0.9994212305459911, 0.9987063202199348, 0.9996092768831967, 0.9992672170770259, 1.0038521796428677, 1.006395579985909, 1.010043499516811, 1.0123639350881624, 1.0129612417762712, 1.0136895748454222, 1.0142389616875263, 1.0169533425594137, 1.0155933115387923, 1.0160545959967149, 1.01720996420037, 1.0191705568461418, 1.0211220323947214, 1.0233186664050824, 1.0238826732718525, 1.0244733565780713, 1.0255532159737815, 1.0261360329704605, 1.0250052783327992, 1.0237846501659287]\n",
    "nnntotal = nnn +nnnams"
   ]
  },
  {
   "cell_type": "code",
   "execution_count": 30,
   "id": "de20ad6e",
   "metadata": {},
   "outputs": [
    {
     "data": {
      "text/plain": [
       "Text(0, 0.5, '$NM_{1}/NM_{2}$')"
      ]
     },
     "execution_count": 30,
     "metadata": {},
     "output_type": "execute_result"
    },
    {
     "data": {
      "image/png": "[encoded data removed]",
      "text/plain": [
       "<Figure size 432x288 with 1 Axes>"
      ]
     },
     "metadata": {
      "needs_background": "light"
     },
     "output_type": "display_data"
    }
   ],
   "source": [
    "import matplotlib.pyplot as plt\n",
    "import matplotlib as mpl\n",
    "from colorspacious import cspace_converter\n",
    "\n",
    "cmap = plt.cm.Spectral\n",
    "norm = plt.Normalize(vmin=4, vmax=5)\n",
    "plt.scatter(heptotal, nnntotal, c=ttotal, cmap=\"plasma\")\n",
    "#plt.plot(xx, yy, color='black', linewidth=1)\n",
    "plt.xlabel('He/p')\n",
    "plt.ylabel('$NM_{1}/NM_{2}$')"
   ]
  },
  {
   "cell_type": "code",
   "execution_count": 31,
   "id": "a101d100",
   "metadata": {},
   "outputs": [
    {
     "data": {
      "text/plain": [
       "Text(0, 0.5, '$NM_{1}/NM_{2}$')"
      ]
     },
     "execution_count": 31,
     "metadata": {},
     "output_type": "execute_result"
    },
    {
     "data": {
      "image/png": "[encoded data removed]",
      "text/plain": [
       "<Figure size 432x288 with 1 Axes>"
      ]
     },
     "metadata": {
      "needs_background": "light"
     },
     "output_type": "display_data"
    }
   ],
   "source": [
    "fig = plt.figure()\n",
    "plt.scatter(ttotal, nnntotal, c=ttotal, cmap=\"plasma\")\n",
    "plt.xlabel('t')\n",
    "plt.ylabel('$NM_{1}/NM_{2}$')"
   ]
  }
 ],
 "metadata": {
  "kernelspec": {
   "display_name": "Python 3",
   "language": "python",
   "name": "python3"
  },
  "language_info": {
   "codemirror_mode": {
    "name": "ipython",
    "version": 3
   },
   "file_extension": ".py",
   "mimetype": "text/x-python",
   "name": "python",
   "nbconvert_exporter": "python",
   "pygments_lexer": "ipython3",
   "version": "3.8.8"
  }
 },
 "nbformat": 4,
 "nbformat_minor": 5
}
