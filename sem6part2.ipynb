{
 "cells": [
  {
   "cell_type": "code",
   "execution_count": 32,
   "id": "494947ef",
   "metadata": {},
   "outputs": [],
   "source": [
    "import pickle\n",
    "import pandas as pd\n",
    "import numpy as np\n",
    "import matplotlib.pyplot as plt\n",
    "import seaborn as sb\n",
    "\n",
    "def integral(Y1,Y2,E1,E2):\n",
    "    INT=(Y2*E2-Y1*E1)/((np.log(Y2/Y1)/np.log(E2/E1)+1))\n",
    "    #print(E1,E2,INT)\n",
    "    return INT\n",
    "\n",
    "def load_obj(name ):\n",
    "    with open('C:\\\\Users\\\\ginti\\\\Desktop\\\\nirs\\\\' + name + '.pkl', 'rb') as f:\n",
    "        return pickle.load(f)\n",
    "    \n",
    "def Y_NM_Mi20_a(energy,h):\n",
    "    P=np.sqrt(energy*energy+2*0.938*energy)\n",
    "    X=np.log(P)\n",
    "    if energy<1.7:\n",
    "        a,b,c,d=0.5082, -3.0659, 7.2827, -9.5396\n",
    "    #if energy<1.6:\n",
    "    #    a,b,c,d=2.0404,\t-8.1776,\t12.354,\t-11.1\n",
    "    elif (energy>=1.7 and energy<15):\n",
    "        a,b,c,d=0.1179,\t-1.2022,\t4.9329,\t-8.65\n",
    "    else:\n",
    "        a,b,c,d=0,\t-0.0365,\t1.206,\t-4.763\n",
    "    LnY1000=a*X*X*X+b*X*X+c*X+d\n",
    "    Y1000=np.exp(LnY1000)\n",
    "    A = 9.422E-09*np.power(X,5) - 2.284E-07*np.power(X,4) + 2.037E-06*np.power(X,3) - 7.828E-06*np.power(X,2) + 1.203E-05*np.power(X,1) - 5.545E-06\t\t\t\t\t\n",
    "    B = -5.351E-06*np.power(X,5) + 1.316E-04*np.power(X,4) - 1.226E-03*np.power(X,3) + 5.176E-03*np.power(X,2) - 1.017E-02*np.power(X,1) + 1.458E-02\t\t\t\t\n",
    "    alt_dep=(1000-h)*(1000-h)*A+(1000-h)*B\n",
    "    Y=Y1000*np.exp(alt_dep)\n",
    "    return Y\n",
    "\n",
    "def Y_NM_Mi20_p(energy, h):\n",
    "    P=np.sqrt(energy*energy+2*0.938*energy)\n",
    "    X=np.log(P)\n",
    "    #if energy<1.25:\n",
    "    #    a,b,c,d=6.09,\t-14.06,\t13.98,\t-11.615\n",
    "    if energy<1.28:\n",
    "        a,b,c,d=0,\t-8.6616,\t13.879,\t-12.104\n",
    "    elif energy >=1.28 and energy<10:\n",
    "        a,b,c,d=-0.186,\t0.428,\t2.831,\t-8.76\n",
    "    else:\n",
    "        a,b,c,d=0,\t-0.0365,\t1.206,\t-4.763\n",
    "    LnY1000=a*X*X*X+b*X*X+c*X+d\n",
    "    Y1000=np.exp(LnY1000)\n",
    "    A= 6.945E-09*np.power(X,5) - 1.461E-07*np.power(X,4) + 1.115E-06*np.power(X,3) - 3.402E-06*np.power(X,2) + 3.355E-06*np.power(X,1) - 9.823E-07\n",
    "    B= -3.963E-06*np.power(X,5) + 8.091E-05*np.power(X,4) - 6.394E-04*np.power(X,3) + 2.348E-03*np.power(X,2) - 4.713E-03*np.power(X,1) + 1.186E-02\n",
    "    alt_dep=(1000-h)*(1000-h)*A+(1000-h)*B\n",
    "    Y=Y1000*np.exp(alt_dep)\n",
    "    return Y"
   ]
  },
  {
   "cell_type": "code",
   "execution_count": 106,
   "id": "34441412",
   "metadata": {},
   "outputs": [],
   "source": [
    "def summ(pc,depth):\n",
    "    \n",
    "    data_protons = load_obj('AMS_spec_p')\n",
    "    data_he = load_obj('AMS_spec_he')\n",
    "    \n",
    "    al = []\n",
    "    s1 = 0\n",
    "    \n",
    "    for k in range(5,71):\n",
    "        if float(data_protons[2462].iloc[[k], [0]].values) > pc:            \n",
    "            a = float(data_protons[2462].iloc[[k], [4]].values)\n",
    "            b = Y_NM_Mi20_p(a,h) * float(data_protons[2462].iloc[[k], [6]].values)\n",
    "            c = float(data_protons[2462].iloc[[k+1], [4]].values)\n",
    "            d = Y_NM_Mi20_p(c,h) * float(data_protons[2462].iloc[[k+1], [6]].values)\n",
    "            s1 += integral(b, d, a, c)\n",
    "        al.append(s1)\n",
    "        \n",
    "    s2 = 0\n",
    "    an = []\n",
    "    \n",
    "    iheavy = open('C:\\\\Users\\\\ginti\\\\Desktop\\\\nirs\\\\heavy.txt','r')\n",
    "    linesiheavy = iheavy.readlines()\n",
    "    heavy = []\n",
    "    for x in linesiheavy:\n",
    "        heavy.append(x.split()[1])\n",
    "    iheavy.close()\n",
    "    \n",
    "    for k in range(0,66):        \n",
    "        if float(data_he[2462].iloc[[k], [0]].values) > pc:\n",
    "            a = float(data_he[2462].iloc[[k], [4]].values)\n",
    "            b = Y_NM_Mi20_a(a,h) * float(data_he[2462].iloc[[k], [6]].values) * (1 + float(heavy[k]))\n",
    "            c = float(data_he[2462].iloc[[k+1], [4]].values)\n",
    "            d = Y_NM_Mi20_a(c,h) * float(data_he[2462].iloc[[k+1], [6]].values)  * (1 + float(heavy[k]))\n",
    "            s2 += integral(b, d, a, c)\n",
    "        an.append(4*s2)\n",
    "        s2 = 0\n",
    "    nn = []\n",
    "    \n",
    "    for i in range(0,66):\n",
    "        if al[i] == 0 :\n",
    "            phe = 0\n",
    "        else:\n",
    "            phe = an[i] / (al[i] + an[i])\n",
    "        nn.append(phe)\n",
    "        \n",
    "    return nn"
   ]
  },
  {
   "cell_type": "code",
   "execution_count": 107,
   "id": "c645324c",
   "metadata": {},
   "outputs": [],
   "source": [
    "nn07 = summ(0,700)\n",
    "nn010 = summ(0,1000)\n",
    "nn57 = summ(5,700)\n",
    "nn510 = summ(5,1000)\n",
    "nn107 = summ(10,700)\n",
    "nn1010 = summ(10,1000)"
   ]
  },
  {
   "cell_type": "code",
   "execution_count": 108,
   "id": "fbedf8f9",
   "metadata": {},
   "outputs": [],
   "source": [
    "time = load_obj('AMS_time')\n",
    "t = []\n",
    "for j in range(0, 66):\n",
    "    a = float(time.iloc[[j], [0]].values)\n",
    "    t.append(a)"
   ]
  },
  {
   "cell_type": "code",
   "execution_count": 124,
   "id": "ee6b5b7a",
   "metadata": {
    "scrolled": true
   },
   "outputs": [
    {
     "data": {
      "text/plain": [
       "[<matplotlib.lines.Line2D at 0x1924702a940>]"
      ]
     },
     "execution_count": 124,
     "metadata": {},
     "output_type": "execute_result"
    },
    {
     "data": {
      "image/png": "[encoded data removed]",
      "text/plain": [
       "<Figure size 432x288 with 3 Axes>"
      ]
     },
     "metadata": {
      "needs_background": "light"
     },
     "output_type": "display_data"
    }
   ],
   "source": [
    "fig, (ax1, ax2, ax3) = plt.subplots(3, sharex=True)\n",
    "fig.suptitle('h = 700')\n",
    "ax1.plot(t, nn07)\n",
    "ax2.plot(t[9:], nn57[9:])\n",
    "ax3.plot(t[17:], nn107[17:])"
   ]
  },
  {
   "cell_type": "code",
   "execution_count": 123,
   "id": "4d843065",
   "metadata": {},
   "outputs": [
    {
     "data": {
      "text/plain": [
       "[<matplotlib.lines.Line2D at 0x192494628e0>]"
      ]
     },
     "execution_count": 123,
     "metadata": {},
     "output_type": "execute_result"
    },
    {
     "data": {
      "image/png": "[encoded data removed]",
      "text/plain": [
       "<Figure size 432x288 with 3 Axes>"
      ]
     },
     "metadata": {
      "needs_background": "light"
     },
     "output_type": "display_data"
    }
   ],
   "source": [
    "fig, (ax1, ax2, ax3) = plt.subplots(3, sharex=True)\n",
    "fig.suptitle('h = 1000')\n",
    "ax1.plot(t, nn010)\n",
    "ax2.plot(t[9:], nn510[9:])\n",
    "ax3.plot(t[17:], nn1010[17:])"
   ]
  }
 ],
 "metadata": {
  "kernelspec": {
   "display_name": "Python 3",
   "language": "python",
   "name": "python3"
  },
  "language_info": {
   "codemirror_mode": {
    "name": "ipython",
    "version": 3
   },
   "file_extension": ".py",
   "mimetype": "text/x-python",
   "name": "python",
   "nbconvert_exporter": "python",
   "pygments_lexer": "ipython3",
   "version": "3.8.8"
  }
 },
 "nbformat": 4,
 "nbformat_minor": 5
}
