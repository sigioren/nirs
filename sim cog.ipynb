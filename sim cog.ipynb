{
 "cells": [
  {
   "cell_type": "code",
   "execution_count": 1,
   "id": "d2af88b3",
   "metadata": {},
   "outputs": [],
   "source": [
    "import pickle\n",
    "import pandas as pd\n",
    "import numpy as np\n",
    "import matplotlib.pyplot as plt\n",
    "import seaborn as sb\n",
    "from scipy import interpolate\n",
    "from sklearn.linear_model import LinearRegression\n",
    "from sklearn.metrics import r2_score\n",
    "\n",
    "def integral(Y1,Y2,E1,E2):\n",
    "    INT=(Y2*E2-Y1*E1)/((np.log(Y2/Y1)/np.log(E2/E1)+1))\n",
    "    #print(E1,E2,INT)\n",
    "    return INT\n",
    "\n",
    "def load_obj(name):\n",
    "    with open('C:\\\\Users\\\\ginti\\\\Desktop\\\\nirs\\\\' + name + '.pkl', 'rb') as f:\n",
    "        return pickle.load(f)\n",
    "    \n",
    "def Y_NM_Mi20_a(energy,h):\n",
    "    P=np.sqrt(energy*energy+2*0.938*energy)\n",
    "    X=np.log(P)\n",
    "    if energy<1.7:\n",
    "        a,b,c,d=0.5082, -3.0659, 7.2827, -9.5396\n",
    "    #if energy<1.6:\n",
    "    #    a,b,c,d=2.0404,\t-8.1776,\t12.354,\t-11.1\n",
    "    elif (energy>=1.7 and energy<15):\n",
    "        a,b,c,d=0.1179,\t-1.2022,\t4.9329,\t-8.65\n",
    "    else:\n",
    "        a,b,c,d=0,\t-0.0365,\t1.206,\t-4.763\n",
    "    LnY1000=a*X*X*X+b*X*X+c*X+d\n",
    "    Y1000=np.exp(LnY1000)\n",
    "    A = 9.422E-09*np.power(X,5) - 2.284E-07*np.power(X,4) + 2.037E-06*np.power(X,3) - 7.828E-06*np.power(X,2) + 1.203E-05*np.power(X,1) - 5.545E-06\t\t\t\t\t\n",
    "    B = -5.351E-06*np.power(X,5) + 1.316E-04*np.power(X,4) - 1.226E-03*np.power(X,3) + 5.176E-03*np.power(X,2) - 1.017E-02*np.power(X,1) + 1.458E-02\t\t\t\t\n",
    "    alt_dep=(1000-h)*(1000-h)*A+(1000-h)*B\n",
    "    Y=Y1000*np.exp(alt_dep)\n",
    "    return Y\n",
    "\n",
    "def Y_NM_Mi20_p(energy, h):\n",
    "    P=np.sqrt(energy*energy+2*0.938*energy)\n",
    "    X=np.log(P)\n",
    "    #if energy<1.25:\n",
    "    #    a,b,c,d=6.09,\t-14.06,\t13.98,\t-11.615\n",
    "    if energy<1.28:\n",
    "        a,b,c,d=0,\t-8.6616,\t13.879,\t-12.104\n",
    "    elif energy >=1.28 and energy<10:\n",
    "        a,b,c,d=-0.186,\t0.428,\t2.831,\t-8.76\n",
    "    else:\n",
    "        a,b,c,d=0,\t-0.0365,\t1.206,\t-4.763\n",
    "    LnY1000=a*X*X*X+b*X*X+c*X+d\n",
    "    Y1000=np.exp(LnY1000)\n",
    "    A= 6.945E-09*np.power(X,5) - 1.461E-07*np.power(X,4) + 1.115E-06*np.power(X,3) - 3.402E-06*np.power(X,2) + 3.355E-06*np.power(X,1) - 9.823E-07\n",
    "    B= -3.963E-06*np.power(X,5) + 8.091E-05*np.power(X,4) - 6.394E-04*np.power(X,3) + 2.348E-03*np.power(X,2) - 4.713E-03*np.power(X,1) + 1.186E-02\n",
    "    alt_dep=(1000-h)*(1000-h)*A+(1000-h)*B\n",
    "    Y=Y1000*np.exp(alt_dep)\n",
    "    return Y"
   ]
  },
  {
   "cell_type": "code",
   "execution_count": 2,
   "id": "ce4d8d39",
   "metadata": {},
   "outputs": [],
   "source": [
    "def hepams(ener):\n",
    "    \n",
    "    data_protons = load_obj('AMS_spec_p')\n",
    "    data_he = load_obj('AMS_spec_he')\n",
    "\n",
    "    newprot = []\n",
    "\n",
    "    for k in data_protons:\n",
    "        x = np.log10(data_protons[k][0])\n",
    "        y = np.log10(data_protons[k][2])\n",
    "        f = interpolate.interp1d(x, y, fill_value=\"extrapolate\")\n",
    "\n",
    "        xnew = np.log10(data_he[k][0])\n",
    "        ynew=f(xnew)\n",
    "\n",
    "        newprot.append(10**ynew)\n",
    "\n",
    "    l = 0\n",
    "    hep = []\n",
    "    meh = []\n",
    "\n",
    "    for i in data_he:\n",
    "        a = (float(data_he[i].iloc[[ener], [2]].values))/float(newprot[l][ener])\n",
    "        hep.append(a)                \n",
    "        l+=1\n",
    "        \n",
    "    return hep"
   ]
  },
  {
   "cell_type": "code",
   "execution_count": 3,
   "id": "2194a150",
   "metadata": {},
   "outputs": [],
   "source": [
    "def heppam(ener):\n",
    "    \n",
    "    data_protons = load_obj('p_PAM_CR')\n",
    "    data_he = load_obj('a_PAM_CR')\n",
    "\n",
    "    newprot = []\n",
    "\n",
    "    for k in data_protons:\n",
    "        x = np.log10(data_protons[k][0])\n",
    "        y = np.log10(data_protons[k][2])\n",
    "        f = interpolate.interp1d(x, y, fill_value=\"extrapolate\")\n",
    "\n",
    "        xnew = np.log10(data_he[k][0])\n",
    "        ynew=f(xnew)\n",
    "\n",
    "        newprot.append(10**ynew)\n",
    "\n",
    "    l = 0\n",
    "    hep = []\n",
    "    meh = []\n",
    "\n",
    "    for i in data_he:\n",
    "        a = (float(data_he[i].iloc[[ener], [2]].values))/float(newprot[l][ener])\n",
    "        hep.append(a)                \n",
    "        l+=1\n",
    "        \n",
    "    return hep"
   ]
  },
  {
   "cell_type": "code",
   "execution_count": 21,
   "id": "b003620e",
   "metadata": {},
   "outputs": [],
   "source": [
    "def sumpam(pc,depth):\n",
    "    \n",
    "    tt = depth\n",
    "    \n",
    "    data_protons = load_obj('p_PAM_CR')\n",
    "    data_he = load_obj('a_PAM_CR')\n",
    "    \n",
    "    al = []\n",
    "    s1 = 0\n",
    "    \n",
    "    for j in data_protons:\n",
    "        for k in range(0,98):\n",
    "            if float(data_protons[j].iloc[[k], [0]].values) > pc:            \n",
    "                a = float(data_protons[j].iloc[[k], [4]].values)\n",
    "                b = Y_NM_Mi20_p(a,tt) * float(data_protons[j].iloc[[k], [6]].values)\n",
    "                c = float(data_protons[j].iloc[[k+1], [4]].values)\n",
    "                d = Y_NM_Mi20_p(c,tt) * float(data_protons[j].iloc[[k+1], [6]].values)\n",
    "                s1 += integral(b, d, a, c)\n",
    "        al.append(s1)\n",
    "        s1 = 0\n",
    "        \n",
    "    s2 = 0\n",
    "    an = []\n",
    "    \n",
    "    iheavy = open('C:\\\\Users\\\\ginti\\\\Desktop\\\\nirs\\\\heavyp.txt','r')\n",
    "    linesiheavy = iheavy.readlines()\n",
    "    heavy = []\n",
    "    for x in linesiheavy:\n",
    "        heavy.append(x.split()[0])\n",
    "    iheavy.close()\n",
    "    \n",
    "    for j in data_he:\n",
    "        for k in range(0,49):        \n",
    "            if float(data_he[j].iloc[[k], [0]].values) > pc:\n",
    "                a = float(data_he[j].iloc[[k], [4]].values)\n",
    "                b = Y_NM_Mi20_a(a,tt) * float(data_he[j].iloc[[k], [6]].values) * (1 + float(heavy[k]))\n",
    "                c = float(data_he[j].iloc[[k+1], [4]].values)\n",
    "                d = Y_NM_Mi20_a(c,tt) * float(data_he[j].iloc[[k+1], [6]].values)  * (1 + float(heavy[k+1]))\n",
    "                s2 += integral(b, d, a, c)\n",
    "        an.append(4*s2)\n",
    "        s2 = 0\n",
    "    nn = []\n",
    "    \n",
    "    for i in range(len(an)):\n",
    "        phe = al[i] + an[i]\n",
    "        nn.append(phe)\n",
    "        \n",
    "    return nn"
   ]
  },
  {
   "cell_type": "code",
   "execution_count": 30,
   "id": "933b4912",
   "metadata": {},
   "outputs": [],
   "source": [
    "def sumams(pc,depth):\n",
    "    \n",
    "    tt = depth\n",
    "    \n",
    "    data_protons = load_obj('AMS_spec_p')\n",
    "    data_he = load_obj('AMS_spec_he')\n",
    "    \n",
    "    al = []\n",
    "    s1 = 0\n",
    "    \n",
    "    for j in data_protons:\n",
    "        for k in range(0,71):\n",
    "            if float(data_protons[j].iloc[[k], [0]].values) > pc:            \n",
    "                a = float(data_protons[j].iloc[[k], [4]].values)\n",
    "                b = Y_NM_Mi20_p(a,tt) * float(data_protons[j].iloc[[k], [6]].values)\n",
    "                c = float(data_protons[j].iloc[[k+1], [4]].values)\n",
    "                d = Y_NM_Mi20_p(c,tt) * float(data_protons[j].iloc[[k+1], [6]].values)\n",
    "                s1 += integral(b, d, a, c)\n",
    "        al.append(s1)\n",
    "        s1 = 0\n",
    "        \n",
    "    s2 = 0\n",
    "    an = []\n",
    "    \n",
    "    iheavy = open('C:\\\\Users\\\\ginti\\\\Desktop\\\\nirs\\\\heavy.txt','r')\n",
    "    linesiheavy = iheavy.readlines()\n",
    "    heavy = []\n",
    "    for x in linesiheavy:\n",
    "        heavy.append(x.split()[1])\n",
    "    iheavy.close()\n",
    "    \n",
    "    for j in data_he:\n",
    "        for k in range(0,66):        \n",
    "            if float(data_he[j].iloc[[k], [0]].values) > pc:\n",
    "                a = float(data_he[j].iloc[[k], [4]].values)\n",
    "                b = Y_NM_Mi20_a(a,tt) * float(data_he[j].iloc[[k], [6]].values) * (1 + float(heavy[k]))\n",
    "                c = float(data_he[j].iloc[[k+1], [4]].values)\n",
    "                d = Y_NM_Mi20_a(c,tt) * float(data_he[j].iloc[[k+1], [6]].values)  * (1 + float(heavy[k+1]))\n",
    "                s2 += integral(b, d, a, c)\n",
    "        an.append(4*s2)\n",
    "        s2 = 0\n",
    "    nn = []\n",
    "    \n",
    "    for i in range(len(an)):\n",
    "        phe = al[i] + an[i]\n",
    "        nn.append(phe)\n",
    "        \n",
    "    return nn"
   ]
  },
  {
   "cell_type": "code",
   "execution_count": 31,
   "id": "895b6772",
   "metadata": {},
   "outputs": [],
   "source": [
    "time = load_obj('AMS_time')\n",
    "tams = [float(time.iloc[[j], [2]].values) for j in range(0,79)]\n",
    "    \n",
    "time = load_obj('time_PAM_CR')\n",
    "tpam = [float(time.iloc[[j], [2]].values) for j in range(0,51)]"
   ]
  },
  {
   "cell_type": "code",
   "execution_count": 32,
   "id": "4df64417",
   "metadata": {},
   "outputs": [],
   "source": [
    "pam57 = sumpam(6.90668,886.94)\n",
    "pam010 = sumpam(0,1025.07)\n",
    "ams57 = sumams(6.90668,886.94)\n",
    "ams010 = sumams(0,1025.07)"
   ]
  },
  {
   "cell_type": "code",
   "execution_count": 33,
   "id": "e6a3be1b",
   "metadata": {
    "scrolled": true
   },
   "outputs": [
    {
     "data": {
      "text/plain": [
       "Text(0, 0.5, '$NM_{1}/NM_{2}$')"
      ]
     },
     "execution_count": 33,
     "metadata": {},
     "output_type": "execute_result"
    },
    {
     "data": {
      "image/png": "[encoded data removed]",
      "text/plain": [
       "<Figure size 432x288 with 1 Axes>"
      ]
     },
     "metadata": {
      "needs_background": "light"
     },
     "output_type": "display_data"
    }
   ],
   "source": [
    "npam=[pam010[i]/pam57[i] for i in range(len(pam57))]\n",
    "nams=[ams010[i]/ams57[i] for i in range(len(ams57))]\n",
    "t = tpam+tams\n",
    "nnn = npam+nams\n",
    "fig = plt.figure()\n",
    "plt.scatter(t, nnn, c=t, cmap=\"plasma\")\n",
    "plt.xlabel('t')\n",
    "plt.ylabel('$NM_{1}/NM_{2}$')"
   ]
  },
  {
   "cell_type": "code",
   "execution_count": 34,
   "id": "413f5dd1",
   "metadata": {},
   "outputs": [],
   "source": [
    "data_hepam = load_obj('a_PAM_CR')\n",
    "data_heams = load_obj('AMS_spec_he')"
   ]
  },
  {
   "cell_type": "code",
   "execution_count": 35,
   "id": "3b7cb496",
   "metadata": {
    "scrolled": false
   },
   "outputs": [],
   "source": [
    "hepp = [heppam(k) for k in range(len(data_hepam[2049]))]\n",
    "hepa = [hepams(k) for k in range(len(data_heams[2426]))]"
   ]
  },
  {
   "cell_type": "code",
   "execution_count": 36,
   "id": "65752290",
   "metadata": {
    "scrolled": false
   },
   "outputs": [],
   "source": [
    "corrpam = []\n",
    "for k in hepp:\n",
    "    x = np.array(k).reshape((-1, 1))\n",
    "    y = np.array(npam)\n",
    "    model = LinearRegression().fit(x, y)\n",
    "\n",
    "    x_train = x.reshape(-1, 1)\n",
    "    x_test = x.reshape(-1, 1)\n",
    "    y_pred = model.predict(x_test)\n",
    "    coefficient_of_dermination2 = r2_score(y, y_pred)\n",
    "    corrpam.append(coefficient_of_dermination2)\n",
    "\n",
    "corrams = []\n",
    "for k in hepa:\n",
    "    x = np.array(k).reshape((-1, 1))\n",
    "    y = np.array(nams)\n",
    "    model = LinearRegression().fit(x, y)\n",
    "\n",
    "    x_train = x.reshape(-1, 1)\n",
    "    x_test = x.reshape(-1, 1)\n",
    "    y_pred = model.predict(x_test)\n",
    "    coefficient_of_dermination2 = r2_score(y, y_pred)\n",
    "    corrams.append(coefficient_of_dermination2)"
   ]
  },
  {
   "cell_type": "code",
   "execution_count": 37,
   "id": "39f88d67",
   "metadata": {},
   "outputs": [
    {
     "data": {
      "text/plain": [
       "Text(0, 0.5, 'Corr')"
      ]
     },
     "execution_count": 37,
     "metadata": {},
     "output_type": "execute_result"
    },
    {
     "data": {
      "image/png": "[encoded data removed]",
      "text/plain": [
       "<Figure size 432x288 with 1 Axes>"
      ]
     },
     "metadata": {
      "needs_background": "light"
     },
     "output_type": "display_data"
    }
   ],
   "source": [
    "cogpam = data_hepam[2045][0]\n",
    "cogams = data_heams[2426][0]\n",
    "\n",
    "fig, ax = plt.subplots()\n",
    "ax.plot(cogpam[:30], corrpam[:30])\n",
    "ax.plot(cogams[:30], corrams[:30])\n",
    "\n",
    "ax.legend([\"Corr(E) PAM\", \"Corr(E) AMS\"])\n",
    "ax.set_xlabel(\"R, ГВ\")\n",
    "ax.set_ylabel(\"Corr\")"
   ]
  },
  {
   "cell_type": "code",
   "execution_count": null,
   "id": "56c0c7f2",
   "metadata": {},
   "outputs": [],
   "source": []
  },
  {
   "cell_type": "code",
   "execution_count": null,
   "id": "c170eec2",
   "metadata": {},
   "outputs": [],
   "source": []
  }
 ],
 "metadata": {
  "kernelspec": {
   "display_name": "Python 3",
   "language": "python",
   "name": "python3"
  },
  "language_info": {
   "codemirror_mode": {
    "name": "ipython",
    "version": 3
   },
   "file_extension": ".py",
   "mimetype": "text/x-python",
   "name": "python",
   "nbconvert_exporter": "python",
   "pygments_lexer": "ipython3",
   "version": "3.8.8"
  }
 },
 "nbformat": 4,
 "nbformat_minor": 5
}
